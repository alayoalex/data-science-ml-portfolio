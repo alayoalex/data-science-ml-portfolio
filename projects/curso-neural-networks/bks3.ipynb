{
 "cells": [
  {
   "cell_type": "code",
   "execution_count": 4,
   "metadata": {
    "colab": {},
    "colab_type": "code",
    "id": "u3i5TdNTP5ff"
   },
   "outputs": [
    {
     "name": "stdout",
     "output_type": "stream",
     "text": [
      "\n",
      "################################Model 1################################\n",
      "\n",
      "Epoch 1/10\n",
      "10427/10427 [==============================] - 0s 40us/step - loss: 0.0362\n",
      "Epoch 2/10\n",
      "10427/10427 [==============================] - 0s 37us/step - loss: 0.0165\n",
      "Epoch 3/10\n",
      "10427/10427 [==============================] - 0s 34us/step - loss: 0.0146\n",
      "Epoch 4/10\n",
      "10427/10427 [==============================] - 0s 33us/step - loss: 0.0135\n",
      "Epoch 5/10\n",
      "10427/10427 [==============================] - 0s 33us/step - loss: 0.0125\n",
      "Epoch 6/10\n",
      "10427/10427 [==============================] - 0s 37us/step - loss: 0.0118\n",
      "Epoch 7/10\n",
      "10427/10427 [==============================] - 0s 33us/step - loss: 0.0111\n",
      "Epoch 8/10\n",
      "10427/10427 [==============================] - 0s 34us/step - loss: 0.0105\n",
      "Epoch 9/10\n",
      "10427/10427 [==============================] - 0s 32us/step - loss: 0.0099\n",
      "Epoch 10/10\n",
      "10427/10427 [==============================] - 0s 34us/step - loss: 0.0094\n",
      "\n",
      "################################Model 2################################\n",
      "\n",
      "Train on 10427 samples, validate on 3476 samples\n",
      "Epoch 1/10\n",
      "10427/10427 [==============================] - 1s 63us/step - loss: 0.0099 - val_loss: 0.0027\n",
      "Epoch 2/10\n",
      "10427/10427 [==============================] - 0s 43us/step - loss: 0.0020 - val_loss: 0.0014\n",
      "Epoch 3/10\n",
      "10427/10427 [==============================] - 1s 48us/step - loss: 0.0012 - val_loss: 8.4642e-04\n",
      "Epoch 4/10\n",
      "10427/10427 [==============================] - 0s 45us/step - loss: 9.4788e-04 - val_loss: 4.5932e-04\n",
      "Epoch 5/10\n",
      "10427/10427 [==============================] - 0s 41us/step - loss: 7.9142e-04 - val_loss: 7.8459e-04\n",
      "Epoch 6/10\n",
      "10427/10427 [==============================] - 0s 41us/step - loss: 6.7727e-04 - val_loss: 3.2074e-04\n",
      "Epoch 7/10\n",
      "10427/10427 [==============================] - 0s 42us/step - loss: 5.9302e-04 - val_loss: 4.0305e-04\n",
      "Epoch 8/10\n",
      "10427/10427 [==============================] - 0s 42us/step - loss: 5.4694e-04 - val_loss: 3.9323e-04\n",
      "Epoch 9/10\n",
      "10427/10427 [==============================] - 0s 42us/step - loss: 4.4674e-04 - val_loss: 1.7474e-04\n",
      "Epoch 10/10\n",
      "10427/10427 [==============================] - 0s 41us/step - loss: 3.9008e-04 - val_loss: 0.0012\n",
      "\n",
      "################################Model 3################################\n",
      "\n",
      "Epoch 1/10\n",
      "10427/10427 [==============================] - 0s 39us/step - loss: 0.6892\n",
      "Epoch 2/10\n",
      "10427/10427 [==============================] - 0s 33us/step - loss: 0.6892\n",
      "Epoch 3/10\n",
      "10427/10427 [==============================] - 0s 34us/step - loss: 0.6892\n",
      "Epoch 4/10\n",
      "10427/10427 [==============================] - 0s 33us/step - loss: 0.6892\n",
      "Epoch 5/10\n",
      "10427/10427 [==============================] - 0s 33us/step - loss: 0.6892\n",
      "Epoch 6/10\n",
      "10427/10427 [==============================] - 0s 33us/step - loss: 0.6892\n",
      "Epoch 7/10\n",
      "10427/10427 [==============================] - 0s 32us/step - loss: 0.6892\n",
      "Epoch 8/10\n",
      "10427/10427 [==============================] - 0s 31us/step - loss: 0.6892\n",
      "Epoch 9/10\n",
      "10427/10427 [==============================] - 0s 31us/step - loss: 0.6892\n",
      "Epoch 10/10\n",
      "10427/10427 [==============================] - 0s 31us/step - loss: 0.6892: 0s - loss: 0.\n"
     ]
    },
    {
     "data": {
      "text/plain": [
       "<keras.callbacks.callbacks.History at 0x1bafda59d68>"
      ]
     },
     "execution_count": 4,
     "metadata": {},
     "output_type": "execute_result"
    }
   ],
   "source": [
    "import pandas as pd\n",
    "import io\n",
    "import numpy as np\n",
    "import keras\n",
    "from keras.models import Sequential\n",
    "from keras.layers import Dense, Dropout, Flatten\n",
    "\n",
    "\n",
    "train = pd.read_csv(\"../../datasets/ucirvine-datasets/bks/train.csv\")\n",
    "test = pd.read_csv(\"../../datasets/ucirvine-datasets/bks/test.csv\")\n",
    "training = train[:].values\n",
    "testing = test[:].values\n",
    "x_train = training[:,:-1]\n",
    "y_train = training[:,-1]\n",
    "x_test = testing[:,:-1]\n",
    "y_test = testing[:,-1]\n",
    "print(\"\\n################################Model 1################################\\n\")\n",
    "model1 = Sequential()\n",
    "model1.add(Dense(20, activation='relu'))\n",
    "model1.add(Dense(67, activation='relu'))\n",
    "model1.add(Dense(1, activation='relu'))\n",
    "\n",
    "model1.compile(loss=keras.losses.mean_squared_error, optimizer=keras.optimizers.SGD())\n",
    "model1.fit(x_train, y_train, epochs=10, verbose=1)\n",
    "#model1.fit(x_test, y_test, epochs=10, verbose=1)\n",
    "\n",
    "print(\"\\n################################Model 2################################\\n\")\n",
    "model2 = Sequential()\n",
    "model2.add(Dense(20, activation='relu'))\n",
    "model2.add(Dense(55, activation='relu'))\n",
    "model2.add(Dense(1, activation='relu'))\n",
    "model2.compile(loss=keras.losses.mean_squared_error, optimizer=keras.optimizers.Adadelta())\n",
    "model2.fit(x_train, y_train, epochs=10, verbose=1, validation_data=(x_test, y_test))\n",
    "\n",
    "print(\"\\n################################Model 3################################\\n\")\n",
    "model3 = Sequential()\n",
    "model3.add(Dense(20, activation='relu'))\n",
    "model3.add(Dense(40, activation='relu'))\n",
    "model3.add(Dense(1, activation='softmax'))\n",
    "model3.compile(loss=keras.losses.mean_squared_error, optimizer=keras.optimizers.adagrad())\n",
    "model3.fit(x_train, y_train, epochs=10, verbose=1)"
   ]
  },
  {
   "cell_type": "code",
   "execution_count": null,
   "metadata": {},
   "outputs": [],
   "source": []
  }
 ],
 "metadata": {
  "accelerator": "GPU",
  "colab": {
   "collapsed_sections": [],
   "name": "BKS.ipynb",
   "provenance": []
  },
  "kernelspec": {
   "display_name": "Python 3",
   "language": "python",
   "name": "python3"
  },
  "language_info": {
   "codemirror_mode": {
    "name": "ipython",
    "version": 3
   },
   "file_extension": ".py",
   "mimetype": "text/x-python",
   "name": "python",
   "nbconvert_exporter": "python",
   "pygments_lexer": "ipython3",
   "version": "3.7.2"
  }
 },
 "nbformat": 4,
 "nbformat_minor": 4
}
