{
 "cells": [
  {
   "cell_type": "markdown",
   "metadata": {
    "colab_type": "text",
    "id": "Qn7DMPMJ18S4"
   },
   "source": [
    "# MNIST Keras example\n",
    "\n",
    "In this notebook we simply show how to train a neural network using Keras on MNIST dataset."
   ]
  },
  {
   "cell_type": "code",
   "execution_count": 1,
   "metadata": {
    "colab": {
     "base_uri": "https://localhost:8080/",
     "height": 83
    },
    "colab_type": "code",
    "id": "r_YQVLRq1a9S",
    "outputId": "ddc53b46-b975-437f-c052-cca63873f7c6"
   },
   "outputs": [
    {
     "name": "stderr",
     "output_type": "stream",
     "text": [
      "Using TensorFlow backend.\n"
     ]
    }
   ],
   "source": [
    "from __future__ import print_function\n",
    "import keras\n",
    "from keras.datasets import mnist\n",
    "from keras.models import Sequential\n",
    "from keras.layers import Dense, Dropout, Flatten\n",
    "from keras.layers import Conv2D, MaxPooling2D\n",
    "from keras import backend as K\n"
   ]
  },
  {
   "cell_type": "code",
   "execution_count": 2,
   "metadata": {
    "colab": {
     "base_uri": "https://localhost:8080/",
     "height": 54
    },
    "colab_type": "code",
    "id": "IbeuHo1zO2Fu",
    "outputId": "c6c71141-4661-421f-c62e-848bbc543c0b"
   },
   "outputs": [
    {
     "name": "stdout",
     "output_type": "stream",
     "text": [
      "Downloading data from https://s3.amazonaws.com/img-datasets/mnist.npz\n",
      "11493376/11490434 [==============================] - 22s 2us/step\n"
     ]
    }
   ],
   "source": [
    "(x_train, y_train), (x_test, y_test) = mnist.load_data()\n",
    "\n",
    "x_train = x_train.reshape(x_train.shape[0], 28, 28, 1)\n",
    "input_shape = (28, 28, 1)"
   ]
  },
  {
   "cell_type": "markdown",
   "metadata": {
    "colab_type": "text",
    "id": "rkWc7O-a2gWG"
   },
   "source": [
    "## Prepare dataset"
   ]
  },
  {
   "cell_type": "code",
   "execution_count": 3,
   "metadata": {
    "colab": {},
    "colab_type": "code",
    "id": "-yk0DAo11y5n"
   },
   "outputs": [],
   "source": [
    "# Set the time of each attribute as a float32 number\n",
    "x_train = x_train.astype('float32')\n",
    "\n",
    "# Scale the pixel value to the interval [0, 1]\n",
    "x_train /= 255\n",
    "\n",
    "# Convert class vectors to binary class matrices\n",
    "y_train = keras.utils.to_categorical(y_train, 10)"
   ]
  },
  {
   "cell_type": "markdown",
   "metadata": {
    "colab_type": "text",
    "id": "Ha3Iywra2nx2"
   },
   "source": [
    "## Create a neural network model and train it with SGD"
   ]
  },
  {
   "cell_type": "code",
   "execution_count": 4,
   "metadata": {
    "colab": {
     "base_uri": "https://localhost:8080/",
     "height": 110
    },
    "colab_type": "code",
    "id": "bpHSuuZL13-v",
    "outputId": "d5d133ce-e925-4cbd-9e3d-f8ae0cd3ac45"
   },
   "outputs": [],
   "source": [
    "model1 = Sequential()\n",
    "model1.add(Flatten())\n",
    "model1.add(Dense(10, activation='relu'))\n",
    "model1.add(Dense(50, activation='relu'))\n",
    "model1.add(Dense(10, activation='softmax'))\n",
    "\n",
    "model1.compile(loss=keras.losses.mean_squared_error, optimizer=keras.optimizers.SGD())"
   ]
  },
  {
   "cell_type": "code",
   "execution_count": 5,
   "metadata": {
    "colab": {
     "base_uri": "https://localhost:8080/",
     "height": 790
    },
    "colab_type": "code",
    "id": "9GJyE8Xn16dR",
    "outputId": "825a1157-c204-4c1f-9391-2347f5f8aa48"
   },
   "outputs": [
    {
     "name": "stdout",
     "output_type": "stream",
     "text": [
      "Epoch 1/10\n",
      "60000/60000 [==============================] - 3s 51us/step - loss: 0.0905\n",
      "Epoch 2/10\n",
      "60000/60000 [==============================] - 1s 15us/step - loss: 0.0902\n",
      "Epoch 3/10\n",
      "60000/60000 [==============================] - 1s 15us/step - loss: 0.0899: \n",
      "Epoch 4/10\n",
      "60000/60000 [==============================] - 1s 15us/step - loss: 0.0896\n",
      "Epoch 5/10\n",
      "60000/60000 [==============================] - 1s 15us/step - loss: 0.0893\n",
      "Epoch 6/10\n",
      "60000/60000 [==============================] - 1s 15us/step - loss: 0.0891\n",
      "Epoch 7/10\n",
      "60000/60000 [==============================] - 1s 14us/step - loss: 0.0888\n",
      "Epoch 8/10\n",
      "60000/60000 [==============================] - 1s 15us/step - loss: 0.0885\n",
      "Epoch 9/10\n",
      "60000/60000 [==============================] - 1s 15us/step - loss: 0.0882\n",
      "Epoch 10/10\n",
      "60000/60000 [==============================] - 1s 15us/step - loss: 0.0878\n"
     ]
    },
    {
     "data": {
      "text/plain": [
       "<keras.callbacks.callbacks.History at 0x26e2c235320>"
      ]
     },
     "execution_count": 5,
     "metadata": {},
     "output_type": "execute_result"
    }
   ],
   "source": [
    "model1.fit(x_train, y_train, batch_size=128, epochs=10, verbose=1)"
   ]
  },
  {
   "cell_type": "markdown",
   "metadata": {
    "colab_type": "text",
    "id": "jSDeRwkO8FmQ"
   },
   "source": [
    "## Create a neural network model and train it with AdaDelta"
   ]
  },
  {
   "cell_type": "code",
   "execution_count": null,
   "metadata": {
    "colab": {},
    "colab_type": "code",
    "id": "Wlp8v_b58KMC"
   },
   "outputs": [],
   "source": [
    "model2 = Sequential()\n",
    "model2.add(Flatten())\n",
    "model2.add(Dense(10, activation='relu'))\n",
    "model2.add(Dense(50, activation='relu'))\n",
    "model2.add(Dense(10, activation='softmax'))\n",
    "\n",
    "model2.compile(loss=keras.losses.mean_squared_error, optimizer=keras.optimizers.Adadelta())"
   ]
  },
  {
   "cell_type": "code",
   "execution_count": null,
   "metadata": {
    "colab": {
     "base_uri": "https://localhost:8080/",
     "height": 403
    },
    "colab_type": "code",
    "id": "TDGm4Oox8MUk",
    "outputId": "ed8a8147-5aaf-473f-bd2d-f7082dc6f240"
   },
   "outputs": [
    {
     "name": "stdout",
     "output_type": "stream",
     "text": [
      "Epoch 1/10\n",
      "60000/60000 [==============================] - 2s 30us/step - loss: 0.0547\n",
      "Epoch 2/10\n",
      "60000/60000 [==============================] - 1s 24us/step - loss: 0.0196\n",
      "Epoch 3/10\n",
      "60000/60000 [==============================] - 2s 27us/step - loss: 0.0151\n",
      "Epoch 4/10\n",
      "60000/60000 [==============================] - 2s 27us/step - loss: 0.0136\n",
      "Epoch 5/10\n",
      "60000/60000 [==============================] - 2s 26us/step - loss: 0.0128\n",
      "Epoch 6/10\n",
      "60000/60000 [==============================] - 2s 25us/step - loss: 0.0121\n",
      "Epoch 7/10\n",
      "60000/60000 [==============================] - 2s 28us/step - loss: 0.0116\n",
      "Epoch 8/10\n",
      "60000/60000 [==============================] - 2s 27us/step - loss: 0.0111\n",
      "Epoch 9/10\n",
      "60000/60000 [==============================] - 2s 27us/step - loss: 0.0108\n",
      "Epoch 10/10\n",
      "60000/60000 [==============================] - 2s 26us/step - loss: 0.0105\n"
     ]
    },
    {
     "data": {
      "text/plain": [
       "<keras.callbacks.History at 0x7f941302d438>"
      ]
     },
     "execution_count": 8,
     "metadata": {
      "tags": []
     },
     "output_type": "execute_result"
    }
   ],
   "source": [
    "model2.fit(x_train, y_train, batch_size=128, epochs=10, verbose=1)"
   ]
  },
  {
   "cell_type": "markdown",
   "metadata": {
    "colab_type": "text",
    "id": "e072iMysHvMW"
   },
   "source": [
    "## Create a CONVNET"
   ]
  },
  {
   "cell_type": "code",
   "execution_count": 6,
   "metadata": {
    "colab": {
     "base_uri": "https://localhost:8080/",
     "height": 166
    },
    "colab_type": "code",
    "id": "p-xqXbwLHuS2",
    "outputId": "bf61638c-0d3b-46ac-fde6-b5525a237344"
   },
   "outputs": [],
   "source": [
    "model3 = Sequential()\n",
    "model3.add(Conv2D(32, kernel_size=(3, 3), activation='relu', input_shape=input_shape))\n",
    "model3.add(Conv2D(64, (3, 3), activation='relu'))\n",
    "model3.add(MaxPooling2D(pool_size=(2, 2)))\n",
    "model3.add(Dropout(0.25))\n",
    "model3.add(Flatten())\n",
    "model3.add(Dense(128, activation='relu'))\n",
    "model3.add(Dropout(0.5))\n",
    "model3.add(Dense(10, activation='softmax'))\n",
    "\n",
    "model3.compile(loss=keras.losses.mean_squared_error, optimizer=keras.optimizers.Adadelta())"
   ]
  },
  {
   "cell_type": "code",
   "execution_count": null,
   "metadata": {
    "colab": {
     "base_uri": "https://localhost:8080/",
     "height": 403
    },
    "colab_type": "code",
    "id": "DNK5fAE0IF4p",
    "outputId": "a99a419a-8ccc-498b-e78b-17051798d275"
   },
   "outputs": [
    {
     "name": "stdout",
     "output_type": "stream",
     "text": [
      "Epoch 1/10\n",
      "60000/60000 [==============================] - 10s 174us/step - loss: 0.0295\n",
      "Epoch 2/10\n",
      "60000/60000 [==============================] - 5s 92us/step - loss: 0.0131\n",
      "Epoch 3/10\n",
      "60000/60000 [==============================] - 6s 93us/step - loss: 0.0093\n",
      "Epoch 4/10\n",
      "60000/60000 [==============================] - 5s 91us/step - loss: 0.0073\n",
      "Epoch 5/10\n",
      "60000/60000 [==============================] - 5s 91us/step - loss: 0.0061\n",
      "Epoch 6/10\n",
      "60000/60000 [==============================] - 5s 91us/step - loss: 0.0054\n",
      "Epoch 7/10\n",
      "60000/60000 [==============================] - 5s 90us/step - loss: 0.0048\n",
      "Epoch 8/10\n",
      "60000/60000 [==============================] - 5s 91us/step - loss: 0.0044\n",
      "Epoch 9/10\n",
      "60000/60000 [==============================] - 5s 90us/step - loss: 0.0040\n",
      "Epoch 10/10\n",
      "60000/60000 [==============================] - 5s 91us/step - loss: 0.0038\n"
     ]
    },
    {
     "data": {
      "text/plain": [
       "<keras.callbacks.History at 0x7f93c84deef0>"
      ]
     },
     "execution_count": 10,
     "metadata": {
      "tags": []
     },
     "output_type": "execute_result"
    }
   ],
   "source": [
    "model3.fit(x_train, y_train, batch_size=128, epochs=10, verbose=1)"
   ]
  },
  {
   "cell_type": "markdown",
   "metadata": {
    "colab_type": "text",
    "id": "oSBvQ-JmaGR9"
   },
   "source": [
    "## Are our models working good? Let's see"
   ]
  },
  {
   "cell_type": "code",
   "execution_count": null,
   "metadata": {
    "colab": {
     "base_uri": "https://localhost:8080/",
     "height": 315
    },
    "colab_type": "code",
    "id": "hklEsf_9aSzV",
    "outputId": "4a23b5bf-3aad-4492-d477-4c98f691a9d5"
   },
   "outputs": [
    {
     "data": {
      "text/plain": [
       "<matplotlib.image.AxesImage at 0x7f93445c27f0>"
      ]
     },
     "execution_count": 11,
     "metadata": {
      "tags": []
     },
     "output_type": "execute_result"
    },
    {
     "data": {
      "image/png": "[encoded data removed]",
      "text/plain": [
       "<Figure size 432x288 with 1 Axes>"
      ]
     },
     "metadata": {
      "tags": []
     },
     "output_type": "display_data"
    }
   ],
   "source": [
    "from skimage import color\n",
    "from skimage import io\n",
    "from skimage import transform\n",
    "import numpy as np\n",
    "\n",
    "io.imshow(x_train[1, :, :, 0])"
   ]
  },
  {
   "cell_type": "code",
   "execution_count": null,
   "metadata": {
    "colab": {
     "base_uri": "https://localhost:8080/",
     "height": 35
    },
    "colab_type": "code",
    "id": "Vg7UAUXgabQ_",
    "outputId": "34482f2e-3ecc-461e-e3b0-a1919ee03aef"
   },
   "outputs": [
    {
     "data": {
      "text/plain": [
       "0"
      ]
     },
     "execution_count": 12,
     "metadata": {
      "tags": []
     },
     "output_type": "execute_result"
    }
   ],
   "source": [
    "model1.predict_classes(x_train)[1]"
   ]
  },
  {
   "cell_type": "code",
   "execution_count": null,
   "metadata": {
    "colab": {
     "base_uri": "https://localhost:8080/",
     "height": 35
    },
    "colab_type": "code",
    "id": "7zHMOKkjasFm",
    "outputId": "acebb37a-d5a8-4926-91e0-1a3845e2da4c"
   },
   "outputs": [
    {
     "data": {
      "text/plain": [
       "0"
      ]
     },
     "execution_count": 13,
     "metadata": {
      "tags": []
     },
     "output_type": "execute_result"
    }
   ],
   "source": [
    "model2.predict_classes(x_train)[1]"
   ]
  },
  {
   "cell_type": "code",
   "execution_count": null,
   "metadata": {
    "colab": {
     "base_uri": "https://localhost:8080/",
     "height": 35
    },
    "colab_type": "code",
    "id": "XTk8HYrzasV3",
    "outputId": "cc28f493-0708-4b31-c4eb-33789f4edb0f"
   },
   "outputs": [
    {
     "data": {
      "text/plain": [
       "0"
      ]
     },
     "execution_count": 14,
     "metadata": {
      "tags": []
     },
     "output_type": "execute_result"
    }
   ],
   "source": [
    "model3.predict_classes(x_train)[1]"
   ]
  },
  {
   "cell_type": "markdown",
   "metadata": {
    "colab_type": "text",
    "id": "e6hyQPp8QDjW"
   },
   "source": [
    "## Let's try how good is our model using our own numbers           :o\n",
    "\n",
    "This is just a simple function used to allow you to make a drawing in Jupyter..."
   ]
  },
  {
   "cell_type": "code",
   "execution_count": null,
   "metadata": {
    "colab": {},
    "colab_type": "code",
    "id": "UZIT6MgZQuPy"
   },
   "outputs": [],
   "source": [
    "from IPython.display import HTML, Image\n",
    "from google.colab.output import eval_js\n",
    "from base64 import b64decode\n",
    "\n",
    "canvas_html = \"\"\"\n",
    "<canvas style=\"border: 2px solid black;\" width=%d height=%d></canvas>\n",
    "<button>Finish</button>\n",
    "<script>\n",
    "var canvas = document.querySelector('canvas')\n",
    "var ctx = canvas.getContext('2d')\n",
    "ctx.lineWidth = %d\n",
    "var button = document.querySelector('button')\n",
    "var mouse = {x: 0, y: 0}\n",
    "canvas.addEventListener('mousemove', function(e) {\n",
    "  mouse.x = e.pageX - this.offsetLeft\n",
    "  mouse.y = e.pageY - this.offsetTop\n",
    "})\n",
    "canvas.onmousedown = ()=>{\n",
    "  ctx.beginPath()\n",
    "  ctx.moveTo(mouse.x, mouse.y)\n",
    "  canvas.addEventListener('mousemove', onPaint)\n",
    "}\n",
    "canvas.onmouseup = ()=>{\n",
    "  canvas.removeEventListener('mousemove', onPaint)\n",
    "}\n",
    "var onPaint = ()=>{\n",
    "  ctx.lineTo(mouse.x, mouse.y)\n",
    "  ctx.stroke()\n",
    "}\n",
    "var data = new Promise(resolve=>{\n",
    "  button.onclick = ()=>{\n",
    "    resolve(canvas.toDataURL('image/png'))\n",
    "  }\n",
    "})\n",
    "</script>\n",
    "\"\"\"\n",
    "\n",
    "def draw(filename='drawing.png', w=280, h=280, line_width=1):\n",
    "  display(HTML(canvas_html % (w, h, line_width)))\n",
    "  data = eval_js(\"data\")\n",
    "  binary = b64decode(data.split(',')[1])\n",
    "  with open(filename, 'wb') as f:\n",
    "    f.write(binary)"
   ]
  },
  {
   "cell_type": "markdown",
   "metadata": {
    "colab_type": "text",
    "id": "8wniFjCvRHN0"
   },
   "source": [
    "Here you can draw a number:"
   ]
  },
  {
   "cell_type": "code",
   "execution_count": null,
   "metadata": {
    "colab": {
     "base_uri": "https://localhost:8080/",
     "height": 307
    },
    "colab_type": "code",
    "id": "xJajjwtyQ13H",
    "outputId": "dfa9a7c4-4c40-4d4a-99a0-deb8757c5076"
   },
   "outputs": [
    {
     "data": {
      "text/html": [
       "\n",
       "<canvas style=\"border: 2px solid black;\" width=280 height=280></canvas>\n",
       "<button>Finish</button>\n",
       "<script>\n",
       "var canvas = document.querySelector('canvas')\n",
       "var ctx = canvas.getContext('2d')\n",
       "ctx.lineWidth = 1\n",
       "var button = document.querySelector('button')\n",
       "var mouse = {x: 0, y: 0}\n",
       "canvas.addEventListener('mousemove', function(e) {\n",
       "  mouse.x = e.pageX - this.offsetLeft\n",
       "  mouse.y = e.pageY - this.offsetTop\n",
       "})\n",
       "canvas.onmousedown = ()=>{\n",
       "  ctx.beginPath()\n",
       "  ctx.moveTo(mouse.x, mouse.y)\n",
       "  canvas.addEventListener('mousemove', onPaint)\n",
       "}\n",
       "canvas.onmouseup = ()=>{\n",
       "  canvas.removeEventListener('mousemove', onPaint)\n",
       "}\n",
       "var onPaint = ()=>{\n",
       "  ctx.lineTo(mouse.x, mouse.y)\n",
       "  ctx.stroke()\n",
       "}\n",
       "var data = new Promise(resolve=>{\n",
       "  button.onclick = ()=>{\n",
       "    resolve(canvas.toDataURL('image/png'))\n",
       "  }\n",
       "})\n",
       "</script>\n"
      ],
      "text/plain": [
       "<IPython.core.display.HTML object>"
      ]
     },
     "metadata": {
      "tags": []
     },
     "output_type": "display_data"
    }
   ],
   "source": [
    "draw()"
   ]
  },
  {
   "cell_type": "code",
   "execution_count": null,
   "metadata": {
    "colab": {
     "base_uri": "https://localhost:8080/",
     "height": 315
    },
    "colab_type": "code",
    "id": "CbHyHm_DRG2m",
    "outputId": "82d6987a-b458-4bcb-d391-afaf2849cbcd"
   },
   "outputs": [
    {
     "data": {
      "text/plain": [
       "<matplotlib.image.AxesImage at 0x7f9338e79128>"
      ]
     },
     "execution_count": 39,
     "metadata": {
      "tags": []
     },
     "output_type": "execute_result"
    },
    {
     "data": {
      "image/png": "[encoded data removed]",
      "text/plain": [
       "<Figure size 432x288 with 1 Axes>"
      ]
     },
     "metadata": {
      "tags": []
     },
     "output_type": "display_data"
    }
   ],
   "source": [
    "img = io.imread('drawing.png')\n",
    "img_scaled = transform.resize(img[:,:,3], (28, 28), anti_aliasing=True)\n",
    "img_scaled = img_scaled.reshape((28, 28))\n",
    "\n",
    "for cell in np.nditer(img_scaled, op_flags=['readwrite']):\n",
    "    if cell  != 0 :\n",
    "        cell[...] = 0.99\n",
    "\n",
    "io.imshow(img_scaled)"
   ]
  },
  {
   "cell_type": "code",
   "execution_count": null,
   "metadata": {
    "colab": {
     "base_uri": "https://localhost:8080/",
     "height": 35
    },
    "colab_type": "code",
    "id": "SsdbCk5ia0pM",
    "outputId": "e724a8ee-ff2c-4acb-8c62-7903324b0142"
   },
   "outputs": [
    {
     "name": "stdout",
     "output_type": "stream",
     "text": [
      "The predicted number by SGD trained model is: 2\n"
     ]
    }
   ],
   "source": [
    "print(\"The predicted number by SGD trained model is: \" + str(model1.predict_classes(img_scaled.reshape((1, 28, 28, 1)))[0]))"
   ]
  },
  {
   "cell_type": "code",
   "execution_count": null,
   "metadata": {
    "colab": {
     "base_uri": "https://localhost:8080/",
     "height": 35
    },
    "colab_type": "code",
    "id": "7NZr6BVb6tPG",
    "outputId": "f6bccfc1-7530-46c2-f29d-9a8df64c4ca9"
   },
   "outputs": [
    {
     "name": "stdout",
     "output_type": "stream",
     "text": [
      "The predicted number by Adadelta trained model is: 2\n"
     ]
    }
   ],
   "source": [
    "print(\"The predicted number by Adadelta trained model is: \" + str(model2.predict_classes(img_scaled.reshape((1, 28, 28, 1)))[0]))"
   ]
  },
  {
   "cell_type": "code",
   "execution_count": null,
   "metadata": {
    "colab": {
     "base_uri": "https://localhost:8080/",
     "height": 35
    },
    "colab_type": "code",
    "id": "heoE78VNIfVK",
    "outputId": "922eb8eb-4cd9-4f33-942d-177791667d77"
   },
   "outputs": [
    {
     "name": "stdout",
     "output_type": "stream",
     "text": [
      "The predicted number by Adadelta trained CNN model is: 5\n"
     ]
    }
   ],
   "source": [
    "print(\"The predicted number by Adadelta trained CNN model is: \" + str(model3.predict_classes(img_scaled.reshape((1, 28, 28, 1)))[0]))"
   ]
  },
  {
   "cell_type": "markdown",
   "metadata": {
    "colab_type": "text",
    "id": "IlvjOqWgT_MP"
   },
   "source": [
    "## Preprocessing our numbers consistently\n",
    "\n",
    "All images are size normalized to fit in a 20x20 pixel box and are centered in a 28x28 image using the center of mass"
   ]
  },
  {
   "cell_type": "code",
   "execution_count": null,
   "metadata": {
    "colab": {
     "base_uri": "https://localhost:8080/",
     "height": 315
    },
    "colab_type": "code",
    "id": "MMntTR5OUEDK",
    "outputId": "b34099d0-655f-43d2-f521-13606e6a5bd3"
   },
   "outputs": [
    {
     "data": {
      "text/plain": [
       "<matplotlib.image.AxesImage at 0x7f9338dcb978>"
      ]
     },
     "execution_count": 43,
     "metadata": {
      "tags": []
     },
     "output_type": "execute_result"
    },
    {
     "data": {
      "image/png": "[encoded data removed]",
      "text/plain": [
       "<Figure size 432x288 with 1 Axes>"
      ]
     },
     "metadata": {
      "tags": []
     },
     "output_type": "display_data"
    }
   ],
   "source": [
    "io.imshow(x_train[1,:,:,0])"
   ]
  },
  {
   "cell_type": "markdown",
   "metadata": {
    "colab_type": "text",
    "id": "U7X7nLtIVLzf"
   },
   "source": [
    "1. Delete empty rows and columns to each side of the number"
   ]
  },
  {
   "cell_type": "code",
   "execution_count": null,
   "metadata": {
    "colab": {},
    "colab_type": "code",
    "id": "kClhRxYsUKLT"
   },
   "outputs": [],
   "source": [
    "while np.sum(img_scaled[0]) == 0:\n",
    "    img_scaled = img_scaled[1:]\n",
    "\n",
    "while np.sum(img_scaled[:,0]) == 0:\n",
    "    img_scaled = np.delete(img_scaled,0,1)\n",
    "\n",
    "while np.sum(img_scaled[-1]) == 0:\n",
    "    img_scaled = img_scaled[:-1]\n",
    "\n",
    "while np.sum(img_scaled[:,-1]) == 0:\n",
    "    img_scaled = np.delete(img_scaled,-1,1)\n",
    "\n",
    "rows,cols = img_scaled.shape"
   ]
  },
  {
   "cell_type": "markdown",
   "metadata": {
    "colab_type": "text",
    "id": "KDCGqoqEWGWd"
   },
   "source": [
    "2. Scale what remains to fit a 20 x 20 box"
   ]
  },
  {
   "cell_type": "code",
   "execution_count": null,
   "metadata": {
    "colab": {},
    "colab_type": "code",
    "id": "XlxDOJ35V4mQ"
   },
   "outputs": [],
   "source": [
    "import cv2\n",
    "\n",
    "if rows > cols:\n",
    "    factor = 20.0/rows\n",
    "    rows = 20\n",
    "    cols = int(round(cols*factor))\n",
    "    img_scaled = cv2.resize(img_scaled, (cols,rows))\n",
    "else:\n",
    "    factor = 20.0/cols\n",
    "    cols = 20\n",
    "    rows = int(round(rows*factor))\n",
    "    img_scaled = cv2.resize(img_scaled, (cols, rows))"
   ]
  },
  {
   "cell_type": "markdown",
   "metadata": {
    "colab_type": "text",
    "id": "4tp6wX6PWeDO"
   },
   "source": [
    "3. Include the four pixels to each side of the image to end up with a 28 x 28 image"
   ]
  },
  {
   "cell_type": "code",
   "execution_count": null,
   "metadata": {
    "colab": {},
    "colab_type": "code",
    "id": "TJnbGEWKWU4m"
   },
   "outputs": [],
   "source": [
    "import math\n",
    "\n",
    "colsPadding = (int(math.ceil((28-cols)/2.0)),int(math.floor((28-cols)/2.0)))\n",
    "rowsPadding = (int(math.ceil((28-rows)/2.0)),int(math.floor((28-rows)/2.0)))\n",
    "img_scaled = np.lib.pad(img_scaled,(rowsPadding,colsPadding),'constant')"
   ]
  },
  {
   "cell_type": "markdown",
   "metadata": {
    "colab_type": "text",
    "id": "RL-PZLEBXN7N"
   },
   "source": [
    "4. Shift the inner box so that it is centered using the center of mass."
   ]
  },
  {
   "cell_type": "code",
   "execution_count": null,
   "metadata": {
    "colab": {},
    "colab_type": "code",
    "id": "yslCFuPwWwB2"
   },
   "outputs": [],
   "source": [
    "from scipy import ndimage\n",
    "\n",
    "def getBestShift(img):\n",
    "    cy,cx = ndimage.measurements.center_of_mass(img)\n",
    "\n",
    "    rows,cols = img.shape\n",
    "    shiftx = np.round(cols/2.0-cx).astype(int)\n",
    "    shifty = np.round(rows/2.0-cy).astype(int)\n",
    "\n",
    "    return shiftx,shifty"
   ]
  },
  {
   "cell_type": "code",
   "execution_count": null,
   "metadata": {
    "colab": {},
    "colab_type": "code",
    "id": "l5Kk5FVvXaB8"
   },
   "outputs": [],
   "source": [
    "def shift(img,sx,sy):\n",
    "    rows,cols = img.shape\n",
    "    M = np.float32([[1,0,sx],[0,1,sy]])\n",
    "    shifted = cv2.warpAffine(img,M,(cols,rows))\n",
    "    return shifted"
   ]
  },
  {
   "cell_type": "code",
   "execution_count": null,
   "metadata": {
    "colab": {},
    "colab_type": "code",
    "id": "54VBqGWxXsAA"
   },
   "outputs": [],
   "source": [
    "shiftx,shifty = getBestShift(img_scaled)\n",
    "shifted = shift(img_scaled, shiftx, shifty)\n",
    "img_scaled = shifted"
   ]
  },
  {
   "cell_type": "markdown",
   "metadata": {
    "colab_type": "text",
    "id": "gy-7tDipYXSe"
   },
   "source": [
    "### How is our image looking now?"
   ]
  },
  {
   "cell_type": "code",
   "execution_count": null,
   "metadata": {
    "colab": {
     "base_uri": "https://localhost:8080/",
     "height": 315
    },
    "colab_type": "code",
    "id": "B5xzgIM3YiyK",
    "outputId": "cf42b3e0-8b0d-46c7-83e6-ee00d39ccb12"
   },
   "outputs": [
    {
     "data": {
      "text/plain": [
       "<matplotlib.image.AxesImage at 0x7f9338dabbe0>"
      ]
     },
     "execution_count": 50,
     "metadata": {
      "tags": []
     },
     "output_type": "execute_result"
    },
    {
     "data": {
      "image/png": "[encoded data removed]",
      "text/plain": [
       "<Figure size 432x288 with 1 Axes>"
      ]
     },
     "metadata": {
      "tags": []
     },
     "output_type": "display_data"
    }
   ],
   "source": [
    "io.imshow(img_scaled)"
   ]
  },
  {
   "cell_type": "markdown",
   "metadata": {
    "colab_type": "text",
    "id": "5NtE2clXYrJw"
   },
   "source": [
    "### Let's take a look to our neural networks \"empirical\" performance now"
   ]
  },
  {
   "cell_type": "code",
   "execution_count": null,
   "metadata": {
    "colab": {
     "base_uri": "https://localhost:8080/",
     "height": 35
    },
    "colab_type": "code",
    "id": "ZWdII-G7YqFA",
    "outputId": "e8838eea-cd50-46f2-94ab-75ab57deaf33"
   },
   "outputs": [
    {
     "name": "stdout",
     "output_type": "stream",
     "text": [
      "The predicted number by SGD trained model is: 2\n"
     ]
    }
   ],
   "source": [
    "print(\"The predicted number by SGD trained model is: \" + str(model1.predict_classes(img_scaled.reshape((1, 28, 28, 1)))[0]))"
   ]
  },
  {
   "cell_type": "code",
   "execution_count": null,
   "metadata": {
    "colab": {
     "base_uri": "https://localhost:8080/",
     "height": 35
    },
    "colab_type": "code",
    "id": "VJAKemC-YqSV",
    "outputId": "b20d5831-0051-47e3-e4b4-29ce8e9455a8"
   },
   "outputs": [
    {
     "name": "stdout",
     "output_type": "stream",
     "text": [
      "The predicted number by Adadelta trained model is: 8\n"
     ]
    }
   ],
   "source": [
    "print(\"The predicted number by Adadelta trained model is: \" + str(model2.predict_classes(img_scaled.reshape((1, 28, 28, 1)))[0]))"
   ]
  },
  {
   "cell_type": "code",
   "execution_count": null,
   "metadata": {
    "colab": {
     "base_uri": "https://localhost:8080/",
     "height": 35
    },
    "colab_type": "code",
    "id": "08fA7n5JYqZl",
    "outputId": "1683650d-fa91-4b3c-86f8-1d1057b5f49b"
   },
   "outputs": [
    {
     "name": "stdout",
     "output_type": "stream",
     "text": [
      "The predicted number by Adadelta trained CNN model is: 8\n"
     ]
    }
   ],
   "source": [
    "print(\"The predicted number by Adadelta trained CNN model is: \" + str(model3.predict_classes(img_scaled.reshape((1, 28, 28, 1)))[0]))"
   ]
  }
 ],
 "metadata": {
  "accelerator": "GPU",
  "colab": {
   "collapsed_sections": [],
   "name": "Example 1.ipynb",
   "provenance": []
  },
  "kernelspec": {
   "display_name": "Python 3",
   "language": "python",
   "name": "python3"
  },
  "language_info": {
   "codemirror_mode": {
    "name": "ipython",
    "version": 3
   },
   "file_extension": ".py",
   "mimetype": "text/x-python",
   "name": "python",
   "nbconvert_exporter": "python",
   "pygments_lexer": "ipython3",
   "version": "3.7.2"
  }
 },
 "nbformat": 4,
 "nbformat_minor": 4
}
