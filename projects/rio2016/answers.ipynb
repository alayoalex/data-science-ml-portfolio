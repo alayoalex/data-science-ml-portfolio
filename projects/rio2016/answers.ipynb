{
 "cells": [
  {
   "cell_type": "markdown",
   "metadata": {},
   "source": [
    "# Rio 2016 Olympics Dataset"
   ]
  },
  {
   "cell_type": "markdown",
   "metadata": {},
   "source": [
    "This dataset includes the official statistics on the 11,538 athletes (6,333 men and 5,205 women) and 306 events at the 2016 Olympic Games in Rio de Janeiro. The data was taken from the `Rio 2016 website`, which has since been deleted. You can read more about that in a blog post."
   ]
  },
  {
   "cell_type": "markdown",
   "metadata": {},
   "source": [
    "## Dataset Information\n",
    "\n",
    "#### Column definitions for `athletes.csv`\n",
    "\n",
    "The athlete data is stored in [`athletes.csv`](https://raw.githubusercontent.com/flother/rio2016/master/athletes.csv); one athlete per row, and eleven columns. Empty cells are null values.\n",
    "\n",
    "1. `id`\n",
    "    * Athlete id\n",
    "    * Integer between 1 and 1,000,000,000\n",
    "    * Unique\n",
    "    * No null values\n",
    "2. `name`\n",
    "    * Athlete's full name\n",
    "    * String up to forty characters in length\n",
    "    * Not unique\n",
    "    * No null values\n",
    "3. `nationality`\n",
    "    * Athlete's nationality\n",
    "    * One of the [IOC](https://www.olympic.org/the-ioc)'s 206 [three-letter country codes](https://en.wikipedia.org/wiki/List_of_IOC_country_codes), or `ROT` for members of the [Refugee Olympic Team](https://en.wikipedia.org/wiki/Refugee_Olympic_Team_at_the_2016_Summer_Olympics). Kuwaiti athletes' nationality is given as `IOA` due to the [suspension of the Kuwait Olympic Committee](https://www.olympic.org/news/suspension-of-the-kuwait-olympic-committee)\n",
    "    * Not unique\n",
    "    * No null values\n",
    "4. `sex`\n",
    "    * Athlete's sex\n",
    "    * One of two lower-case string values:\n",
    "        * `male`\n",
    "        * `female`\n",
    "    * Not unique\n",
    "    * No null values\n",
    "5. `date_of_birth`\n",
    "    * Athlete's date of birth\n",
    "    * `YYYY-MM-DD` format\n",
    "    * Not unique\n",
    "    * No null values\n",
    "6. `height`\n",
    "    * Athlete's height, in metres\n",
    "    * Floating-point number\n",
    "    * Not unique\n",
    "    * Contains null values\n",
    "7. `weight`\n",
    "    * Athlete's weight, in kilograms\n",
    "    * Integer\n",
    "    * Not unique\n",
    "    * Contains null values\n",
    "8. `sport`\n",
    "    * The sport in which the athlete competes, as defined by the [IOC](https://www.olympic.org/the-ioc)\n",
    "    * One of 28 lower-case string values\n",
    "        * `aquatics`\n",
    "        * `archery`\n",
    "        * `athletics`\n",
    "        * `badminton`\n",
    "        * `basketball`\n",
    "        * `boxing`\n",
    "        * `canoe`\n",
    "        * `cycling`\n",
    "        * `equestrian`\n",
    "        * `fencing`\n",
    "        * `football`\n",
    "        * `golf`\n",
    "        * `gymnastics`\n",
    "        * `handball`\n",
    "        * `hockey`\n",
    "        * `judo`\n",
    "        * `modern pentathlon`\n",
    "        * `rowing`\n",
    "        * `rugby sevens`\n",
    "        * `sailing`\n",
    "        * `shooting`\n",
    "        * `table tennis`\n",
    "        * `taekwondo`\n",
    "        * `tennis`\n",
    "        * `triathlon`\n",
    "        * `volleyball`\n",
    "        * `weightlifting`\n",
    "        * `wrestling`\n",
    "    * Not unique\n",
    "    * No null values\n",
    "9. `gold`\n",
    "    * Number of gold medals won by the athlete\n",
    "    * Integer\n",
    "    * Not unique\n",
    "    * No null values\n",
    "10. `silver`\n",
    "    * Number of silver medals won by the athlete\n",
    "    * Integer\n",
    "    * Not unique\n",
    "    * No null values\n",
    "11. `bronze`\n",
    "    * Number of bronze medals won by the athlete\n",
    "    * Integer\n",
    "    * Not unique\n",
    "    * No null values\n",
    "12. `info`\n",
    "    * Free-form English-language description of the athlete\n",
    "    * String\n",
    "    * Unique (excluding null values)\n",
    "    * Contains null values"
   ]
  },
  {
   "cell_type": "markdown",
   "metadata": {},
   "source": [
    "## Tasks\n",
    "\n",
    "1. To Do Exploratory Data Analysis (EDA)\n",
    "2. To Get Auxiliary and Aditional Datasets\n",
    "3. Concat and Merge Datasets"
   ]
  },
  {
   "cell_type": "markdown",
   "metadata": {},
   "source": [
    "## Question(s) to be Answered\n",
    "\n",
    "1. Athletes with more medals\n",
    "2. Athetes with more medals by sport\n",
    "3. Athetes with more medal by sex\n",
    "4. Countries with more medals\n",
    "5. Countries with more medal by continent\n",
    "6. Continents with more medals\n",
    "7. Build a medal table\n",
    "8. Events with more medals to give\n",
    "9. Countries economic power vs amount of medals\n",
    "10. Countries population vs amount of medals\n"
   ]
  },
  {
   "cell_type": "markdown",
   "metadata": {},
   "source": [
    "## Importing Libraries"
   ]
  },
  {
   "cell_type": "code",
   "execution_count": 7,
   "metadata": {},
   "outputs": [],
   "source": [
    "import numpy as np\n",
    "import pandas as pd\n",
    "import matplotlib.pyplot as plt\n",
    "import seaborn as sns\n",
    "import requests\n",
    "%matplotlib inline"
   ]
  },
  {
   "cell_type": "markdown",
   "metadata": {},
   "source": [
    "## Loading Dataset"
   ]
  },
  {
   "cell_type": "code",
   "execution_count": 8,
   "metadata": {},
   "outputs": [],
   "source": [
    "athletes = pd.read_csv('data/athletes.csv')"
   ]
  },
  {
   "cell_type": "markdown",
   "metadata": {},
   "source": [
    "#### 1. Athletes with more medals"
   ]
  },
  {
   "cell_type": "code",
   "execution_count": null,
   "metadata": {},
   "outputs": [],
   "source": []
  },
  {
   "cell_type": "markdown",
   "metadata": {},
   "source": [
    "#### 2. Athetes with more medals by sport"
   ]
  },
  {
   "cell_type": "code",
   "execution_count": null,
   "metadata": {},
   "outputs": [],
   "source": []
  },
  {
   "cell_type": "markdown",
   "metadata": {},
   "source": [
    "#### 3. Athetes with more medal by sex"
   ]
  },
  {
   "cell_type": "code",
   "execution_count": null,
   "metadata": {},
   "outputs": [],
   "source": []
  },
  {
   "cell_type": "markdown",
   "metadata": {},
   "source": [
    "#### 4. Countries with more medals"
   ]
  },
  {
   "cell_type": "code",
   "execution_count": null,
   "metadata": {},
   "outputs": [],
   "source": []
  },
  {
   "cell_type": "markdown",
   "metadata": {},
   "source": [
    "#### 5. Countries with more medal by continent"
   ]
  },
  {
   "cell_type": "code",
   "execution_count": null,
   "metadata": {},
   "outputs": [],
   "source": []
  },
  {
   "cell_type": "markdown",
   "metadata": {},
   "source": [
    "#### 6. Continents with more medals"
   ]
  },
  {
   "cell_type": "code",
   "execution_count": null,
   "metadata": {},
   "outputs": [],
   "source": []
  },
  {
   "cell_type": "markdown",
   "metadata": {},
   "source": [
    "#### 7. Build a medal table"
   ]
  },
  {
   "cell_type": "code",
   "execution_count": null,
   "metadata": {},
   "outputs": [],
   "source": []
  },
  {
   "cell_type": "markdown",
   "metadata": {},
   "source": [
    "#### 8. Events with more medals to give"
   ]
  },
  {
   "cell_type": "code",
   "execution_count": null,
   "metadata": {},
   "outputs": [],
   "source": []
  },
  {
   "cell_type": "markdown",
   "metadata": {},
   "source": [
    "#### 9. Countries economic power vs amount of medals"
   ]
  },
  {
   "cell_type": "code",
   "execution_count": null,
   "metadata": {},
   "outputs": [],
   "source": []
  },
  {
   "cell_type": "markdown",
   "metadata": {},
   "source": [
    "#### 10. Countries population vs amount of medals"
   ]
  },
  {
   "cell_type": "code",
   "execution_count": null,
   "metadata": {},
   "outputs": [],
   "source": []
  }
 ],
 "metadata": {
  "interpreter": {
   "hash": "b0846e98a1a07fc4d69ccdbd4c3709c95f2d05342f6c6b20f53549c27f47b5a5"
  },
  "kernelspec": {
   "display_name": "Python 3.9.2 64-bit",
   "language": "python",
   "name": "python3"
  },
  "language_info": {
   "codemirror_mode": {
    "name": "ipython",
    "version": 3
   },
   "file_extension": ".py",
   "mimetype": "text/x-python",
   "name": "python",
   "nbconvert_exporter": "python",
   "pygments_lexer": "ipython3",
   "version": "3.9.2"
  },
  "orig_nbformat": 4
 },
 "nbformat": 4,
 "nbformat_minor": 2
}
