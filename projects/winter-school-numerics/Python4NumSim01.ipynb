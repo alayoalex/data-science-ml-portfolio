{
 "cells": [
  {
   "cell_type": "markdown",
   "metadata": {
    "slideshow": {
     "slide_type": "slide"
    }
   },
   "source": [
    "# Numerical data analysis and modeling with Python\n",
    "\n",
    "Dr. Lars Bittrich (e-mail: bittrich-lars@ipfdd.de)\n",
    "* from Leibniz-IPF in Dresden Germany\n",
    "* theoretical physicist\n",
    "\n",
    "Expericences in Python (since 2004):\n",
    "* 4 years of teaching seminars on Computational Physics for physicists\n",
    "* Numerical modeling of systems in quantum chaos; HPC simulations\n",
    "* Numerical modeling and optimization of composite structures\n",
    "* Experimental data evaluation and measurement automation"
   ]
  },
  {
   "cell_type": "markdown",
   "metadata": {
    "slideshow": {
     "slide_type": "slide"
    }
   },
   "source": [
    "# Overview\n",
    "\n",
    "* basic python structures and differences to other languages\n",
    "    * lists\n",
    "    * tuples\n",
    "    * strings\n",
    "    * dictionaries\n",
    "    * classes\n",
    "* intruduction to numpy\n",
    "    * working with arrays\n",
    "    * programming array code instead of loops\n",
    "    "
   ]
  },
  {
   "cell_type": "markdown",
   "metadata": {
    "slideshow": {
     "slide_type": "subslide"
    }
   },
   "source": [
    "* matplotlib, scipy, pandas\n",
    "* writing fast code\n",
    "    * beyond numpy, numexpr, numba\n",
    "    * extensions with cython\n",
    "    * bindings with cython and pybind11\n",
    "    * python multiprocessing\n",
    "* requested topics"
   ]
  },
  {
   "cell_type": "markdown",
   "metadata": {
    "slideshow": {
     "slide_type": "slide"
    }
   },
   "source": [
    "# Literature\n",
    "\n",
    "Tutorials and Dokumentation:\n",
    "* [www.python-course.eu](https://www.python-course.eu)\n",
    "* [scipy-cookbook.readthedocs.io](https://scipy-cookbook.readthedocs.io)\n",
    "\n",
    "* [docs.python.org/3.7](https://docs.python.org/3.7/)\n",
    "* [numpy.org/doc/1.18](https://numpy.org/doc/1.18/)\n",
    "* [matplotlib.org/tutorials/index.html](https://matplotlib.org/tutorials/index.html)\n",
    "* [matplotlib.org/gallery/index.html](https://matplotlib.org/gallery/index.html)\n"
   ]
  },
  {
   "cell_type": "markdown",
   "metadata": {
    "slideshow": {
     "slide_type": "slide"
    }
   },
   "source": [
    "# History of Python\n",
    "\n",
    "* initially developed by Guido van Rossum in late 1980\n",
    "* name reference to Monty Python's Flying Circus\n",
    "* a language for easy teaching\n",
    "* version 1.0 was released in January 1994\n",
    "* version 2.0 in October 2000\n",
    "* Python 3.0 released in 2008"
   ]
  },
  {
   "cell_type": "markdown",
   "metadata": {
    "slideshow": {
     "slide_type": "slide"
    }
   },
   "source": [
    "# Installation\n",
    "\n",
    "Distributions with package management:\n",
    "* [Anaconda](https://www.anaconda.com/distribution/) -> most essential packages in default installation contained\n",
    "* with Anaconda: `conda install -c conda-forge rise`\n",
    "* On Linux or with manual install: python 3.7, numpy, scipy, matplotlib, cython, jupyter, rise"
   ]
  },
  {
   "cell_type": "markdown",
   "metadata": {
    "slideshow": {
     "slide_type": "slide"
    }
   },
   "source": [
    "# Typical for python\n",
    "\n",
    "* interpreted dynamically typed\n",
    "* easy to learn\n",
    "* intuitive syntax, often short and concise\n",
    "* ´´comes with batteries included´´: powerful libraries like: \n",
    "    * email, urllib, zipfile, multiprocessing and many more\n",
    "    * `https://docs.python.org/3/library/`\n",
    "* huge ecosystem of libraries (mostly CPython, currently more than 200.000 projects on PyPI)\n",
    "    * search: python [what you need right now]"
   ]
  },
  {
   "cell_type": "code",
   "execution_count": 1,
   "metadata": {
    "slideshow": {
     "slide_type": "subslide"
    }
   },
   "outputs": [
    {
     "name": "stdout",
     "output_type": "stream",
     "text": [
      "The Zen of Python, by Tim Peters\n",
      "\n",
      "Beautiful is better than ugly.\n",
      "Explicit is better than implicit.\n",
      "Simple is better than complex.\n",
      "Complex is better than complicated.\n",
      "Flat is better than nested.\n",
      "Sparse is better than dense.\n",
      "Readability counts.\n",
      "Special cases aren't special enough to break the rules.\n",
      "Although practicality beats purity.\n",
      "Errors should never pass silently.\n",
      "Unless explicitly silenced.\n",
      "In the face of ambiguity, refuse the temptation to guess.\n",
      "There should be one-- and preferably only one --obvious way to do it.\n",
      "Although that way may not be obvious at first unless you're Dutch.\n",
      "Now is better than never.\n",
      "Although never is often better than *right* now.\n",
      "If the implementation is hard to explain, it's a bad idea.\n",
      "If the implementation is easy to explain, it may be a good idea.\n",
      "Namespaces are one honking great idea -- let's do more of those!\n"
     ]
    }
   ],
   "source": [
    "import this"
   ]
  },
  {
   "cell_type": "markdown",
   "metadata": {
    "slideshow": {
     "slide_type": "slide"
    }
   },
   "source": [
    "# Interactive shell\n",
    "\n",
    "Basic types:"
   ]
  },
  {
   "cell_type": "code",
   "execution_count": 1,
   "metadata": {
    "slideshow": {
     "slide_type": "-"
    }
   },
   "outputs": [
    {
     "name": "stdout",
     "output_type": "stream",
     "text": [
      "7\n",
      "This is a test\n",
      "3+4= 7\n",
      "x, y, z: 5 6.1 11.1\n",
      "complex number: (4+5.1j)\n",
      "x*y= 30.5\n",
      "x/2= 2.5\n"
     ]
    }
   ],
   "source": [
    "print(3 + 4)\n",
    "print(\"This is a test\")\n",
    "print(\"3+4=\", 3+4)\n",
    "x = 5\n",
    "y = 6.1\n",
    "z = x + y\n",
    "c = 4 + 5.1j\n",
    "print(\"x, y, z:\", x, y, z)\n",
    "print(\"complex number:\", c)\n",
    "print(\"x*y=\", x*y)\n",
    "print(\"x/2=\", x/2)"
   ]
  },
  {
   "cell_type": "markdown",
   "metadata": {
    "slideshow": {
     "slide_type": "slide"
    }
   },
   "source": [
    "# Operators\n",
    "\n",
    "* operators: `+  -  *  /` as usual\n",
    "* `**` for exponents; `%` modulo \n",
    "* comparison: `==`, `<`,  `>`,  `<=`,  `>=`,  `!=` \n",
    "* logical opertors: `|` (or); `&` (and); `^` (xor); `~` (inv); `<<`,  `>>` (shift)\n",
    "* all operators can be combined with assignment: `x -= 2` \n",
    "* use `type(x)` to get data type\n",
    "* division with integer types yield float! Use `//` for integer division.\n",
    "* big number are possible"
   ]
  },
  {
   "cell_type": "code",
   "execution_count": 3,
   "metadata": {
    "slideshow": {
     "slide_type": "slide"
    }
   },
   "outputs": [
    {
     "name": "stdout",
     "output_type": "stream",
     "text": [
      "type of x: <class 'int'>\n",
      "type of x == type of y: False\n",
      "is x integer: True\n",
      "is y integer: False\n",
      "x float: False\n",
      "5/2: 2.5\n",
      "5//2: 2\n"
     ]
    }
   ],
   "source": [
    "print(\"type of x:\", type(x))  \n",
    "print(\"type of x == type of y:\", type(x)==type(y))\n",
    "print(\"is x integer:\", isinstance(x, int))\n",
    "print(\"is y integer:\", isinstance(y, int))\n",
    "print(\"x float:\", isinstance(x, float))\n",
    "print(\"5/2:\", 5/2)\n",
    "print(\"5//2:\", 5//2)"
   ]
  },
  {
   "cell_type": "code",
   "execution_count": 4,
   "metadata": {
    "slideshow": {
     "slide_type": "slide"
    }
   },
   "outputs": [
    {
     "name": "stdout",
     "output_type": "stream",
     "text": [
      "x^2: 25\n",
      "x^2000: 870980981621721667557619549477887229585910374270538861664349322949828885340626741378473875079978788106556408717745512063620430237198833632508279082452303686110151064231029731844770912338990942384805856374197234719063103709717102341338066824141470072823629277351483947365609114807773659084382927185815811948911134617256915670416545076575696978688296466624839314010926757566865640829864607020478209736583890745367167211108478699317026667107461706636187594713500639193851672095206666878678364305056913162755577282544319220234472829986232534712298259962687261646269421115058998416069587800908920579349669236736913827347448298397172895803277667115579753494052712115087421629797155964976280104903975345046567785695453426825434185295645428424293462112053395137460028538491546496267026898886434214356481725450758426045441108355790758165263762707637097797493609152464857349232178547471268908595592165403420696716220544097087042534305174783814271995118445411602119001993267698963158366035219345898069254813486663593971465352723605221893603623162344963023226799889023333175534301945815013863127729744770005798281812992166753266441172395445809353443716569909308297494243007169052124052051599106448566000604029261487881100463610822941645972134518552644715890683789506575861017698385432029210038002794322539542020752022213866641380472576754542153919782083275936648524549223149282539679916226305067539215087890625 <class 'int'>\n",
      "x==y False\n",
      "x!=y True\n",
      "x>y False\n",
      "2 or 6: 6\n",
      "2 and 6: 2\n",
      "2 xor 6: 4\n",
      "13 mod 5: 3\n",
      "-3 mod 5: 2\n"
     ]
    }
   ],
   "source": [
    "print(\"x^2:\", x**2)\n",
    "print(\"x^2000:\", x**2000, type(x**2000))\n",
    "print(\"x==y\", x==y)\n",
    "print(\"x!=y\", x!=y)\n",
    "print(\"x>y\", x>y)\n",
    "print(\"2 or 6:\", 2 | 6)\n",
    "print(\"2 and 6:\", 2 & 6)\n",
    "print(\"2 xor 6:\", 2 ^ 6)\n",
    "print(\"13 mod 5:\", 13 % 5)\n",
    "print(\"-3 mod 5:\", -3 % 5)"
   ]
  },
  {
   "cell_type": "code",
   "execution_count": 5,
   "metadata": {
    "slideshow": {
     "slide_type": "slide"
    }
   },
   "outputs": [
    {
     "name": "stdout",
     "output_type": "stream",
     "text": [
      "The square of 1 is 1\n",
      "The square of 3 is 9\n",
      "The square of 7 is 49\n"
     ]
    }
   ],
   "source": [
    "for i in [1, 3, 7]:\n",
    "    j = i**2\n",
    "    print(f'The square of {i} is {j}')"
   ]
  },
  {
   "cell_type": "code",
   "execution_count": 6,
   "metadata": {},
   "outputs": [
    {
     "name": "stdout",
     "output_type": "stream",
     "text": [
      "range(10)\n",
      "0\n",
      "1\n",
      "2\n",
      "3\n",
      "4\n",
      "5\n",
      "6\n",
      "7\n",
      "8\n",
      "9\n",
      "range(2,12,2)\n",
      "2\n",
      "4\n",
      "6\n",
      "8\n",
      "10\n",
      "range(10,-1,-1)\n",
      "10\n",
      "9\n",
      "8\n",
      "7\n",
      "6\n",
      "5\n",
      "4\n",
      "3\n",
      "2\n",
      "1\n",
      "0\n"
     ]
    }
   ],
   "source": [
    "print('range(10)')\n",
    "for i in range(10):\n",
    "    print(i)\n",
    "    \n",
    "print('range(2,12,2)')\n",
    "for i in range(2, 12, 2):\n",
    "    print(i)\n",
    "    \n",
    "print('range(10,-1,-1)')\n",
    "for i in range(10,-1,-1):\n",
    "    print(i)"
   ]
  },
  {
   "cell_type": "code",
   "execution_count": 7,
   "metadata": {
    "slideshow": {
     "slide_type": "slide"
    }
   },
   "outputs": [
    {
     "name": "stdout",
     "output_type": "stream",
     "text": [
      "2 1 2.0\n",
      "3 2 1.5\n",
      "5 3 1.6666666666666667\n",
      "8 5 1.6\n",
      "13 8 1.625\n",
      "21 13 1.6153846153846154\n",
      "34 21 1.619047619047619\n",
      "55 34 1.6176470588235294\n",
      "89 55 1.6181818181818182\n",
      "144 89 1.6179775280898876\n"
     ]
    }
   ],
   "source": [
    "k, l = 1, 1           # initialization with tuples\n",
    "while k < 100:\n",
    "    k, l = k+l, k\n",
    "    print(k, l, 1.0*k/l)"
   ]
  },
  {
   "cell_type": "code",
   "execution_count": 8,
   "metadata": {},
   "outputs": [
    {
     "name": "stdout",
     "output_type": "stream",
     "text": [
      "0\n",
      "1\n",
      "0\n",
      "1\n",
      "0\n",
      "1\n"
     ]
    }
   ],
   "source": [
    "if i < 5:\n",
    "    print(i)\n",
    "    print(i**i)\n",
    "\n",
    "\n",
    "if i < 5:\n",
    "    print(i)\n",
    "    print(i**i)\n",
    "else:\n",
    "    print(\"i is >=5\")\n",
    "\n",
    "if i < 5:\n",
    "    print(i)\n",
    "    print(i**i)\n",
    "elif i < 10:\n",
    "    print(\"5<=i<10\")\n",
    "elif i < 20:\n",
    "    print(\"10<=i<20\")\n",
    "else:\n",
    "    print(\"i>=20\")"
   ]
  },
  {
   "cell_type": "code",
   "execution_count": 9,
   "metadata": {
    "slideshow": {
     "slide_type": "slide"
    }
   },
   "outputs": [
    {
     "name": "stdout",
     "output_type": "stream",
     "text": [
      "Help for sum_prod:\n",
      "Help on function sum_prod in module __main__:\n",
      "\n",
      "sum_prod(x, y)\n",
      "    Computes sum and product of x and y\n",
      "\n",
      "Doc string of sum_prod:\n",
      "Computes sum and product of x and y\n",
      "    \n"
     ]
    }
   ],
   "source": [
    "def sum_prod(x, y):\n",
    "    \"\"\"Computes sum and product of x and y\n",
    "    \"\"\"\n",
    "    return x + y, x * y\n",
    "\n",
    "\n",
    "print(\"Help for sum_prod:\")\n",
    "help(sum_prod)\n",
    "\n",
    "print(\"Doc string of sum_prod:\")\n",
    "print(sum_prod.__doc__)\n",
    "\n",
    "# only in Ipython/Jupyter\n",
    "sum_prod?"
   ]
  },
  {
   "cell_type": "code",
   "execution_count": 10,
   "metadata": {
    "slideshow": {
     "slide_type": "slide"
    }
   },
   "outputs": [
    {
     "name": "stdout",
     "output_type": "stream",
     "text": [
      "1 2 default\n",
      "3 2 test\n",
      "(1, 2, 4)\n",
      "{'some': 2, 'parameters': 3}\n"
     ]
    }
   ],
   "source": [
    "def some_function(a, b, name='default'):\n",
    "    print(a, b, name)\n",
    "    \n",
    "some_function(1, 2)\n",
    "some_function(b=2, a=3, name=\"test\")\n",
    "\n",
    "def acceptsAnything(*args, **kwargs):\n",
    "    print(args)\n",
    "    print(kwargs)\n",
    "    \n",
    "acceptsAnything(1,2,4, some=2, parameters=3)"
   ]
  },
  {
   "cell_type": "code",
   "execution_count": 12,
   "metadata": {
    "slideshow": {
     "slide_type": "slide"
    }
   },
   "outputs": [
    {
     "name": "stdout",
     "output_type": "stream",
     "text": [
      "(10, 24)\n",
      "10 24\n",
      "(10, 24)\n"
     ]
    }
   ],
   "source": [
    "print(sum_prod(4, 6))\n",
    "sum_res, prod_res = sum_prod(4, 6)\n",
    "print(sum_res, prod_res)\n",
    "inline_sum_res = lambda x, y: (x+y, x*y)\n",
    "print(inline_sum_res(4, 6))"
   ]
  },
  {
   "cell_type": "code",
   "execution_count": 13,
   "metadata": {
    "slideshow": {
     "slide_type": "slide"
    }
   },
   "outputs": [
    {
     "name": "stdout",
     "output_type": "stream",
     "text": [
      "b is True\n",
      "None is always False\n",
      "quick and intuitive syntax\n",
      "element comparison\n",
      "object identity\n",
      "works with references\n"
     ]
    }
   ],
   "source": [
    "a = None\n",
    "b = True\n",
    "c = False\n",
    "if b:\n",
    "    print(\"b is True\")\n",
    "if not a:\n",
    "    print(\"None is always False\")\n",
    "if 4 in [1,2,3,4,5]:\n",
    "    print(\"quick and intuitive syntax\")\n",
    "l1 = [1,2]\n",
    "l2 = [1,2]\n",
    "l1ref = l1\n",
    "if l1==l2:\n",
    "    print(\"element comparison\")\n",
    "if l1 is not l2:\n",
    "    print(\"object identity\")\n",
    "if l1 is l1ref:\n",
    "    print(\"works with references\")"
   ]
  },
  {
   "cell_type": "markdown",
   "metadata": {
    "slideshow": {
     "slide_type": "slide"
    }
   },
   "source": [
    "# Tuples\n",
    "\n",
    "immutable objects"
   ]
  },
  {
   "cell_type": "code",
   "execution_count": 15,
   "metadata": {
    "slideshow": {
     "slide_type": "subslide"
    }
   },
   "outputs": [
    {
     "name": "stdout",
     "output_type": "stream",
     "text": [
      "4\n",
      "(4, 6, 7, 4, 6, 7, 4, 6, 7, 4, 6, 7, 4, 6, 7)\n"
     ]
    },
    {
     "data": {
      "text/plain": [
       "(4, 6, 7)"
      ]
     },
     "execution_count": 15,
     "metadata": {},
     "output_type": "execute_result"
    }
   ],
   "source": [
    "a, b, c = 3, 4, 5\n",
    "tup = 4, 6, 7\n",
    "print(tup[0])\n",
    "a, b, c = tup\n",
    "print(tup + 4*(a,b,c))\n",
    "tup"
   ]
  },
  {
   "cell_type": "markdown",
   "metadata": {
    "slideshow": {
     "slide_type": "slide"
    }
   },
   "source": [
    "# Lists"
   ]
  },
  {
   "cell_type": "code",
   "execution_count": 18,
   "metadata": {
    "slideshow": {
     "slide_type": "subslide"
    }
   },
   "outputs": [
    {
     "name": "stdout",
     "output_type": "stream",
     "text": [
      "[1, 2, 3]\n",
      "[1, 2, 3, 7]\n",
      "Remove element: 7\n",
      "Now l is: [1, 2, 3]\n",
      "Remove first: 1\n",
      "Now: [2, 3]\n",
      "3*l [2, 3, 2, 3, 2, 3]\n"
     ]
    }
   ],
   "source": [
    "l = []\n",
    "l += [1,2,3]\n",
    "print(l)\n",
    "l.append(7)\n",
    "print(l)\n",
    "print(\"Remove element:\",l.pop())\n",
    "print(\"Now l is:\",l)\n",
    "print(\"Remove first:\",l.pop(0))\n",
    "print(\"Now:\",l)\n",
    "print(\"3*l\", 3*l)"
   ]
  },
  {
   "cell_type": "code",
   "execution_count": 20,
   "metadata": {
    "slideshow": {
     "slide_type": "subslide"
    }
   },
   "outputs": [
    {
     "name": "stdout",
     "output_type": "stream",
     "text": [
      "[9, 8, 7, 6, 5, 4, 3, 3, 2, 2, 1, 0, 0, 1, 2, 3, 4, 5, 6, 7, 8, 9]\n",
      "[0, 0, 1, 1, 2, 2, 2, 3, 3, 3, 4, 4, 5, 5, 6, 6, 7, 7, 8, 8, 9, 9]\n",
      "[9, 9, 8, 8, 7, 7, 6, 6, 5, 5, 4, 4, 3, 3, 3, 2, 2, 2, 1, 1, 0, 0]\n",
      "every second element: [9, 8, 7, 6, 5, 4, 3, 3, 2, 1, 0]\n",
      "element 0: 9\n",
      "element 0 to 3 (excluding 4) [9, 9, 8, 8]\n",
      "backwards [0, 0, 1, 1, 2, 2, 2, 3, 3, 3, 4, 4, 5, 5, 6, 6, 7, 7, 8, 8, 9, 9]\n",
      "[0, 1, 4, 9, 16, 25, 36, 49, 64, 81]\n",
      "[0, 1, 4, 9, 16, 36, 49, 64, 81]\n"
     ]
    }
   ],
   "source": [
    "l += list(range(10))\n",
    "print(l)\n",
    "l.sort()\n",
    "print(l)\n",
    "l.reverse()\n",
    "print(l)\n",
    "print(\"every second element:\", l[::2])\n",
    "print(\"element 0:\", l[0])\n",
    "print(\"element 0 to 3 (excluding 4)\", l[0:4]) # or just l[:4]\n",
    "print(\"backwards\", l[::-1])\n",
    "l2 = [i**2 for i in range(10)]\n",
    "print(l2)\n",
    "print([i**2 for i in range(10) if i!=5])"
   ]
  },
  {
   "cell_type": "markdown",
   "metadata": {
    "slideshow": {
     "slide_type": "slide"
    }
   },
   "source": [
    "# Caution:\n",
    "\n",
    "lambda function save local context but for loops have just one context"
   ]
  },
  {
   "cell_type": "code",
   "execution_count": 21,
   "metadata": {
    "slideshow": {
     "slide_type": "subslide"
    }
   },
   "outputs": [
    {
     "name": "stdout",
     "output_type": "stream",
     "text": [
      "4 8\n",
      "4 8\n",
      "4 8\n",
      "4 8\n",
      "4 8\n"
     ]
    }
   ],
   "source": [
    "funclist = []\n",
    "for i in range(5):\n",
    "    funclist.append(lambda x: i*x)\n",
    "    \n",
    "for f in funclist:\n",
    "    print(f(1), f(2))"
   ]
  },
  {
   "cell_type": "code",
   "execution_count": 22,
   "metadata": {
    "slideshow": {
     "slide_type": "subslide"
    }
   },
   "outputs": [
    {
     "name": "stdout",
     "output_type": "stream",
     "text": [
      "0 0\n",
      "1 2\n",
      "2 4\n",
      "3 6\n",
      "4 8\n"
     ]
    }
   ],
   "source": [
    "# the right way\n",
    "funclist = []\n",
    "for i in range(5):\n",
    "    def getFunc(locali):\n",
    "        return lambda x: locali*x\n",
    "    funclist.append(getFunc(i))\n",
    "    \n",
    "for f in funclist:\n",
    "    print(f(1), f(2))"
   ]
  },
  {
   "cell_type": "markdown",
   "metadata": {
    "slideshow": {
     "slide_type": "slide"
    }
   },
   "source": [
    "# Strings\n",
    "\n",
    "also immutable"
   ]
  },
  {
   "cell_type": "code",
   "execution_count": 26,
   "metadata": {
    "slideshow": {
     "slide_type": "subslide"
    }
   },
   "outputs": [
    {
     "name": "stdout",
     "output_type": "stream",
     "text": [
      "Hello World!!!\n",
      "True\n",
      "False\n",
      "['filename', 'txt']\n",
      "['some', 'text', '', 'with\\t', 'various\\n', 'whitespaces']\n",
      "a= 2.7, 2*b=04\n",
      "a= 2.7\n"
     ]
    }
   ],
   "source": [
    "s = 'Hello' + ' World' + 3*'!'\n",
    "print(s)\n",
    "print(s.endswith('!!!'))\n",
    "print(s.startswith('!!!'))\n",
    "fname = 'filename.txt'\n",
    "print(fname.rsplit('.', maxsplit=1))\n",
    "s = \"some text  with\\t various\\n whitespaces\"\n",
    "print(s.split(' '))\n",
    "\n",
    "a, b = 2.73, 2\n",
    "print(f'a={a:4.1f}, 2*b={2*b:02}')\n",
    "print(\"a=%4.1f\"%(a))"
   ]
  },
  {
   "cell_type": "markdown",
   "metadata": {
    "slideshow": {
     "slide_type": "slide"
    }
   },
   "source": [
    "# Exercise\n",
    "\n",
    "* generate a list of numbered filenames\n",
    "* use `os.listdir` (import with `import os`) to display all txt files in the current directory"
   ]
  },
  {
   "cell_type": "markdown",
   "metadata": {
    "slideshow": {
     "slide_type": "slide"
    }
   },
   "source": [
    "# Exercise\n",
    "\n",
    "Write a function that prints the following pattern \n",
    "for variable size parameter n: (here n=2):"
   ]
  },
  {
   "cell_type": "raw",
   "metadata": {
    "slideshow": {
     "slide_type": "-"
    }
   },
   "source": [
    "  II  \n",
    " I00I \n",
    "  II  "
   ]
  },
  {
   "cell_type": "markdown",
   "metadata": {
    "slideshow": {
     "slide_type": "slide"
    }
   },
   "source": [
    "n=10:"
   ]
  },
  {
   "cell_type": "raw",
   "metadata": {
    "slideshow": {
     "slide_type": "-"
    }
   },
   "source": [
    "          II          \n",
    "         I00I         \n",
    "        I0000I        \n",
    "       I000000I       \n",
    "      I00000000I      \n",
    "     I0000000000I     \n",
    "    I000000000000I    \n",
    "   I00000000000000I   \n",
    "  I0000000000000000I  \n",
    " I000000000000000000I \n",
    "  I0000000000000000I  \n",
    "   I00000000000000I   \n",
    "    I000000000000I    \n",
    "     I0000000000I     \n",
    "      I00000000I      \n",
    "       I000000I       \n",
    "        I0000I        \n",
    "         I00I         \n",
    "          II          "
   ]
  },
  {
   "cell_type": "markdown",
   "metadata": {
    "slideshow": {
     "slide_type": "slide"
    }
   },
   "source": [
    "# Exercise\n",
    "\n",
    "* compute the sum of all palindrom 3 digit numbers (they read the same forward and backward e.g. 121 but not 123)\n",
    "\n",
    "# Exercise\n",
    "\n",
    "* compute the sum of all number between 1 and 1000 that are divisible by 3 or 5"
   ]
  },
  {
   "cell_type": "markdown",
   "metadata": {
    "slideshow": {
     "slide_type": "slide"
    }
   },
   "source": [
    "# File access\n"
   ]
  },
  {
   "cell_type": "code",
   "execution_count": 33,
   "metadata": {
    "slideshow": {
     "slide_type": "subslide"
    }
   },
   "outputs": [
    {
     "name": "stdout",
     "output_type": "stream",
     "text": [
      "some line\n",
      "some other line\n",
      "yet another one\n",
      "'some line\\nsome other line\\nyet another one\\n'\n"
     ]
    }
   ],
   "source": [
    "with open('sometextfile.txt', 'w') as fp:\n",
    "    fp.write('some line\\r\\n')\n",
    "    fp.writelines(['some other line\\n', 'yet another one\\n'])\n",
    "    \n",
    "!cat sometextfile.txt\n",
    "\n",
    "with open('sometextfile.txt', 'r') as fp:\n",
    "    cont = fp.read()\n",
    "    \n",
    "print(repr(cont))"
   ]
  },
  {
   "cell_type": "code",
   "execution_count": 34,
   "metadata": {
    "slideshow": {
     "slide_type": "subslide"
    }
   },
   "outputs": [
    {
     "name": "stdout",
     "output_type": "stream",
     "text": [
      "['some line\\n', 'some other line\\n', 'yet another one\\n']\n",
      "'some line\\n'\n",
      "'some other line\\n'\n",
      "'yet another one\\n'\n",
      "b'some line\\r\\nsome other line\\nyet another one\\n'\n"
     ]
    }
   ],
   "source": [
    "with open('sometextfile.txt', 'r') as fp:\n",
    "    lines = fp.readlines()\n",
    "    \n",
    "print(lines)\n",
    "\n",
    "with open('sometextfile.txt', 'r') as fp:\n",
    "    for line in fp:\n",
    "        print(repr(line))\n",
    "\n",
    "with open('sometextfile.txt', 'rb') as fp:\n",
    "    cont = fp.read()\n",
    "    \n",
    "print(repr(cont))"
   ]
  },
  {
   "cell_type": "markdown",
   "metadata": {
    "slideshow": {
     "slide_type": "slide"
    }
   },
   "source": [
    "# Exercise\n",
    "\n",
    "* open a file for writing and write random numbers (use `random.random`) of 4 columns and 10 lines separated by `,` (a csv file)\n",
    "\n",
    "# Exercise\n",
    "\n",
    "* write a simple csv file parser to read this file again and generate a list of lists with numbers\n",
    "* optional if you are done early: handle missing data and additional tabs and spaces"
   ]
  },
  {
   "cell_type": "markdown",
   "metadata": {
    "slideshow": {
     "slide_type": "slide"
    }
   },
   "source": [
    "# Dictionaries"
   ]
  },
  {
   "cell_type": "code",
   "execution_count": 4,
   "metadata": {
    "slideshow": {
     "slide_type": "slide"
    }
   },
   "outputs": [
    {
     "name": "stdout",
     "output_type": "stream",
     "text": [
      "1 2 5\n",
      "a 1\n",
      "b 2\n",
      "c 5\n"
     ]
    },
    {
     "data": {
      "text/plain": [
       "dict_values([1, 2, 5])"
      ]
     },
     "execution_count": 4,
     "metadata": {},
     "output_type": "execute_result"
    }
   ],
   "source": [
    "d = {'a': 1, 'b':2}\n",
    "d['c'] = 5\n",
    "locals().update(d)\n",
    "print(a, b, c)\n",
    "for item in d:\n",
    "    print(item, d[item])\n",
    "list(d.keys())\n",
    "d.update()"
   ]
  },
  {
   "cell_type": "markdown",
   "metadata": {
    "slideshow": {
     "slide_type": "slide"
    }
   },
   "source": [
    "# Exercise\n",
    "\n",
    "* setup a dictionay that maps the numbers 0..9 to letters in the alphabet\n",
    "\n",
    "# Exercise\n",
    "\n",
    "* use this dictionary to translate a list of random integer numbers between 0..9 (`random.randint`)"
   ]
  },
  {
   "cell_type": "markdown",
   "metadata": {
    "slideshow": {
     "slide_type": "slide"
    }
   },
   "source": [
    "# Classes\n"
   ]
  },
  {
   "cell_type": "code",
   "execution_count": 5,
   "metadata": {},
   "outputs": [
    {
     "name": "stdout",
     "output_type": "stream",
     "text": [
      "2.8284271247461903\n"
     ]
    }
   ],
   "source": [
    "from math import sqrt\n",
    "\n",
    "class PolyLine:\n",
    "    def __init__(self, points):\n",
    "        self.points = points\n",
    "        assert type(points)==list\n",
    "        assert len(points)>1\n",
    "        for p in points:\n",
    "            assert type(p)==list\n",
    "            assert len(p)==2\n",
    "            \n",
    "    def length(self):\n",
    "        dp = lambda p1, p2: sqrt((p1[0]-p2[0])**2 + (p1[1]-p2[1])**2)\n",
    "        return sum(map(lambda p1p2: dp(p1p2[0], p1p2[1]), \n",
    "                       zip(self.points[:-1], self.points[1:])))\n",
    "    \n",
    "    def appendPoint(self, p):\n",
    "        self.points.append(p)\n",
    "    \n",
    "line = PolyLine([[0,0],[1,1],[2,2]])\n",
    "print(line.length())"
   ]
  },
  {
   "cell_type": "code",
   "execution_count": 6,
   "metadata": {
    "slideshow": {
     "slide_type": "slide"
    }
   },
   "outputs": [
    {
     "name": "stdout",
     "output_type": "stream",
     "text": [
      "4.82842712474619\n"
     ]
    },
    {
     "ename": "NotImplementedError",
     "evalue": "makes no sense for closed polylines",
     "output_type": "error",
     "traceback": [
      "\u001b[0;31m---------------------------------------------------------------------------\u001b[0m",
      "\u001b[0;31mNotImplementedError\u001b[0m                       Traceback (most recent call last)",
      "\u001b[0;32m<ipython-input-6-68177b34941a>\u001b[0m in \u001b[0;36m<module>\u001b[0;34m\u001b[0m\n\u001b[1;32m      9\u001b[0m \u001b[0mcpline\u001b[0m \u001b[0;34m=\u001b[0m \u001b[0mClosedPolyLine\u001b[0m\u001b[0;34m(\u001b[0m\u001b[0;34m[\u001b[0m\u001b[0;34m[\u001b[0m\u001b[0;36m0\u001b[0m\u001b[0;34m,\u001b[0m\u001b[0;36m0\u001b[0m\u001b[0;34m]\u001b[0m\u001b[0;34m,\u001b[0m\u001b[0;34m[\u001b[0m\u001b[0;36m1\u001b[0m\u001b[0;34m,\u001b[0m\u001b[0;36m1\u001b[0m\u001b[0;34m]\u001b[0m\u001b[0;34m,\u001b[0m\u001b[0;34m[\u001b[0m\u001b[0;36m0\u001b[0m\u001b[0;34m,\u001b[0m\u001b[0;36m2\u001b[0m\u001b[0;34m]\u001b[0m\u001b[0;34m]\u001b[0m\u001b[0;34m)\u001b[0m\u001b[0;34m\u001b[0m\u001b[0;34m\u001b[0m\u001b[0m\n\u001b[1;32m     10\u001b[0m \u001b[0mprint\u001b[0m\u001b[0;34m(\u001b[0m\u001b[0mcpline\u001b[0m\u001b[0;34m.\u001b[0m\u001b[0mlength\u001b[0m\u001b[0;34m(\u001b[0m\u001b[0;34m)\u001b[0m\u001b[0;34m)\u001b[0m\u001b[0;34m\u001b[0m\u001b[0;34m\u001b[0m\u001b[0m\n\u001b[0;32m---> 11\u001b[0;31m \u001b[0mcpline\u001b[0m\u001b[0;34m.\u001b[0m\u001b[0mappendPoint\u001b[0m\u001b[0;34m(\u001b[0m\u001b[0;34m[\u001b[0m\u001b[0;36m1\u001b[0m\u001b[0;34m,\u001b[0m\u001b[0;36m1\u001b[0m\u001b[0;34m]\u001b[0m\u001b[0;34m)\u001b[0m\u001b[0;34m\u001b[0m\u001b[0;34m\u001b[0m\u001b[0m\n\u001b[0m",
      "\u001b[0;32m<ipython-input-6-68177b34941a>\u001b[0m in \u001b[0;36mappendPoint\u001b[0;34m(self, *args, **kwargs)\u001b[0m\n\u001b[1;32m      5\u001b[0m \u001b[0;34m\u001b[0m\u001b[0m\n\u001b[1;32m      6\u001b[0m     \u001b[0;32mdef\u001b[0m \u001b[0mappendPoint\u001b[0m\u001b[0;34m(\u001b[0m\u001b[0mself\u001b[0m\u001b[0;34m,\u001b[0m \u001b[0;34m*\u001b[0m\u001b[0margs\u001b[0m\u001b[0;34m,\u001b[0m \u001b[0;34m**\u001b[0m\u001b[0mkwargs\u001b[0m\u001b[0;34m)\u001b[0m\u001b[0;34m:\u001b[0m\u001b[0;34m\u001b[0m\u001b[0;34m\u001b[0m\u001b[0m\n\u001b[0;32m----> 7\u001b[0;31m         \u001b[0;32mraise\u001b[0m \u001b[0mNotImplementedError\u001b[0m\u001b[0;34m(\u001b[0m\u001b[0;34m\"makes no sense for closed polylines\"\u001b[0m\u001b[0;34m)\u001b[0m\u001b[0;34m\u001b[0m\u001b[0;34m\u001b[0m\u001b[0m\n\u001b[0m\u001b[1;32m      8\u001b[0m \u001b[0;34m\u001b[0m\u001b[0m\n\u001b[1;32m      9\u001b[0m \u001b[0mcpline\u001b[0m \u001b[0;34m=\u001b[0m \u001b[0mClosedPolyLine\u001b[0m\u001b[0;34m(\u001b[0m\u001b[0;34m[\u001b[0m\u001b[0;34m[\u001b[0m\u001b[0;36m0\u001b[0m\u001b[0;34m,\u001b[0m\u001b[0;36m0\u001b[0m\u001b[0;34m]\u001b[0m\u001b[0;34m,\u001b[0m\u001b[0;34m[\u001b[0m\u001b[0;36m1\u001b[0m\u001b[0;34m,\u001b[0m\u001b[0;36m1\u001b[0m\u001b[0;34m]\u001b[0m\u001b[0;34m,\u001b[0m\u001b[0;34m[\u001b[0m\u001b[0;36m0\u001b[0m\u001b[0;34m,\u001b[0m\u001b[0;36m2\u001b[0m\u001b[0;34m]\u001b[0m\u001b[0;34m]\u001b[0m\u001b[0;34m)\u001b[0m\u001b[0;34m\u001b[0m\u001b[0;34m\u001b[0m\u001b[0m\n",
      "\u001b[0;31mNotImplementedError\u001b[0m: makes no sense for closed polylines"
     ]
    }
   ],
   "source": [
    "class ClosedPolyLine(PolyLine):\n",
    "    def length(self):\n",
    "        dp = lambda p1, p2: sqrt((p1[0]-p2[0])**2 + (p1[1]-p2[1])**2)\n",
    "        return super().length() + dp(self.points[0], self.points[-1])\n",
    "    \n",
    "    def appendPoint(self, *args, **kwargs):\n",
    "        raise NotImplementedError(\"makes no sense for closed polylines\")\n",
    "        \n",
    "cpline = ClosedPolyLine([[0,0],[1,1],[0,2]])\n",
    "print(cpline.length())\n",
    "cpline.appendPoint([1,1])"
   ]
  },
  {
   "cell_type": "markdown",
   "metadata": {
    "slideshow": {
     "slide_type": "slide"
    }
   },
   "source": [
    "# Special methods\n"
   ]
  },
  {
   "cell_type": "code",
   "execution_count": null,
   "metadata": {},
   "outputs": [],
   "source": [
    "class AdvancedPolyLine(PolyLine):\n",
    "    def __add__(self, other):\n",
    "        return AdvancedPolyLine(self.points + other.points)\n",
    "    \n",
    "    def __len__(self):\n",
    "        return len(self.points)\n",
    "    \n",
    "    def __getitem__(self, index):\n",
    "        return self.points[index]\n",
    "    \n",
    "aline = AdvancedPolyLine([[0,0],[1,1],[2,2]])\n",
    "print(len(aline))\n",
    "print(len(aline+aline))\n",
    "print(aline[1])"
   ]
  },
  {
   "cell_type": "code",
   "execution_count": null,
   "metadata": {
    "slideshow": {
     "slide_type": "slide"
    }
   },
   "outputs": [],
   "source": []
  }
 ],
 "metadata": {
  "celltoolbar": "Slideshow",
  "kernelspec": {
   "display_name": "Python 3",
   "language": "python",
   "name": "python3"
  },
  "language_info": {
   "codemirror_mode": {
    "name": "ipython",
    "version": 3
   },
   "file_extension": ".py",
   "mimetype": "text/x-python",
   "name": "python",
   "nbconvert_exporter": "python",
   "pygments_lexer": "ipython3",
   "version": "3.7.6"
  },
  "rise": {
   "autolaunch": true,
   "backimage": "background16x10.png",
   "enable_chalkboard": true
  }
 },
 "nbformat": 4,
 "nbformat_minor": 4
}
