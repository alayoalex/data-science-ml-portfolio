{
 "cells": [
  {
   "cell_type": "markdown",
   "metadata": {
    "slideshow": {
     "slide_type": "slide"
    }
   },
   "source": [
    "# Solutions"
   ]
  },
  {
   "cell_type": "code",
   "execution_count": 2,
   "metadata": {
    "slideshow": {
     "slide_type": "slide"
    }
   },
   "outputs": [
    {
     "name": "stdout",
     "output_type": "stream",
     "text": [
      "['basename001.txt', 'basename002.txt', 'basename003.txt', 'basename004.txt', 'basename005.txt', 'basename006.txt', 'basename007.txt', 'basename008.txt', 'basename009.txt', 'basename010.txt']\n"
     ]
    }
   ],
   "source": [
    "fnames = [f'basename{i+1:03}.txt' for i in range(10)]\n",
    "print(fnames)"
   ]
  },
  {
   "cell_type": "code",
   "execution_count": 3,
   "metadata": {
    "slideshow": {
     "slide_type": "slide"
    }
   },
   "outputs": [
    {
     "name": "stdout",
     "output_type": "stream",
     "text": [
      "test1.txt.txt\n",
      "core_dump2.txt\n",
      "test2.txt.txt\n",
      "core_dump.txt\n",
      "test.txt.txt\n",
      "untitled text 3.txt\n",
      "howtograbvideo.txt\n"
     ]
    }
   ],
   "source": [
    "import os\n",
    "\n",
    "os.chdir('/Users/bittrich/')\n",
    "for name in os.listdir():\n",
    "    if name.lower().endswith('.txt'):\n",
    "        print(name)"
   ]
  },
  {
   "cell_type": "code",
   "execution_count": 13,
   "metadata": {
    "slideshow": {
     "slide_type": "slide"
    }
   },
   "outputs": [
    {
     "name": "stdout",
     "output_type": "stream",
     "text": [
      "          II          \n",
      "         I00I         \n",
      "        I0000I        \n",
      "       I000000I       \n",
      "      I00000000I      \n",
      "     I0000000000I     \n",
      "    I000000000000I    \n",
      "   I00000000000000I   \n",
      "  I0000000000000000I  \n",
      " I000000000000000000I \n",
      "  I0000000000000000I  \n",
      "   I00000000000000I   \n",
      "    I000000000000I    \n",
      "     I0000000000I     \n",
      "      I00000000I      \n",
      "       I000000I       \n",
      "        I0000I        \n",
      "         I00I         \n",
      "          II          \n"
     ]
    }
   ],
   "source": [
    "n = 10\n",
    "lines = []\n",
    "for i in range(n):\n",
    "    l = (n-i)*' ' + 'I' + i*'0'\n",
    "    lines.append(l+l[::-1])\n",
    "\n",
    "print('\\n'.join(lines+lines[-2::-1]))"
   ]
  },
  {
   "cell_type": "code",
   "execution_count": null,
   "metadata": {
    "slideshow": {
     "slide_type": "subslide"
    }
   },
   "outputs": [],
   "source": [
    "print('\\n'.join([(n-i)*' ' + 'I' + 2*i*'0' + 'I' for i in list(range(n)) + list(range(n-2,-1,-1))]))"
   ]
  },
  {
   "cell_type": "code",
   "execution_count": 16,
   "metadata": {
    "slideshow": {
     "slide_type": "slide"
    }
   },
   "outputs": [
    {
     "name": "stdout",
     "output_type": "stream",
     "text": [
      "sum of palindroms: 49500\n",
      "49500\n",
      "49500\n"
     ]
    }
   ],
   "source": [
    "s = 0\n",
    "for i in range(1,10):\n",
    "    for j in range(10):\n",
    "        s = s + i*100 + j*10 + i\n",
    "        \n",
    "print(\"sum of palindroms:\", s)\n",
    "\n",
    "print(sum([i for i in range(100,1000) if str(i)==str(i)[::-1]]))\n",
    "print(sum([(i*100 + j*10 + i) for i in range(1,10) for j in range(10)]))"
   ]
  },
  {
   "cell_type": "code",
   "execution_count": null,
   "metadata": {
    "slideshow": {
     "slide_type": "subslide"
    }
   },
   "outputs": [],
   "source": [
    "print(sum([a for a in range(100,1000) if str(a)==str(a)[::-1]]))"
   ]
  },
  {
   "cell_type": "code",
   "execution_count": null,
   "metadata": {
    "slideshow": {
     "slide_type": "subslide"
    }
   },
   "outputs": [],
   "source": [
    "sum([i*100+j*10+i for i in range(1,10) for j in range(10)])"
   ]
  },
  {
   "cell_type": "code",
   "execution_count": 19,
   "metadata": {
    "slideshow": {
     "slide_type": "slide"
    }
   },
   "outputs": [
    {
     "name": "stdout",
     "output_type": "stream",
     "text": [
      "sum: 233168\n"
     ]
    }
   ],
   "source": [
    "s = 0\n",
    "for i in range(2,1000):\n",
    "    if (i%3 == 0) or (i%5 == 0):\n",
    "        s += i\n",
    "print(\"sum:\", s)"
   ]
  },
  {
   "cell_type": "code",
   "execution_count": null,
   "metadata": {
    "slideshow": {
     "slide_type": "subslide"
    }
   },
   "outputs": [],
   "source": [
    "print(sum(a for a in range(1,1000) if (a%3==0) or (a%5==0)))"
   ]
  },
  {
   "cell_type": "code",
   "execution_count": 22,
   "metadata": {
    "slideshow": {
     "slide_type": "slide"
    }
   },
   "outputs": [
    {
     "name": "stdout",
     "output_type": "stream",
     "text": [
      "0.08884296020394467,0.22807446622022598,0.5521235429779814,0.6428838803460037\r\n",
      "0.7553433474012179,0.5707710932464239,0.6428248619859567,0.5672321460208697\r\n",
      "0.967491803686461,0.32048428858382116,0.8721787978068892,0.3986654533067516\r\n",
      "0.2784511900898443,0.399795250956247,0.20871078845173674,0.9781924743721402\r\n",
      "0.20989745871201038,0.8774165702151138,0.9470589400814879,0.8105782678233826\r\n"
     ]
    }
   ],
   "source": [
    "from random import random\n",
    "\n",
    "data = [[random() for i in range(4)] for j in range(10)]\n",
    "\n",
    "with open(\"simplecsv.txt\", \"w\") as fp:\n",
    "    for line in data:\n",
    "        print(*map(str, line), sep=',', file=fp)\n",
    "    \n",
    "!head -n5 simplecsv.txt"
   ]
  },
  {
   "cell_type": "code",
   "execution_count": 23,
   "metadata": {
    "slideshow": {
     "slide_type": "subslide"
    }
   },
   "outputs": [
    {
     "name": "stdout",
     "output_type": "stream",
     "text": [
      "[[0.08884296020394467, 0.22807446622022598, 0.5521235429779814, 0.6428838803460037], [0.7553433474012179, 0.5707710932464239, 0.6428248619859567, 0.5672321460208697], [0.967491803686461, 0.32048428858382116, 0.8721787978068892, 0.3986654533067516], [0.2784511900898443, 0.399795250956247, 0.20871078845173674, 0.9781924743721402], [0.20989745871201038, 0.8774165702151138, 0.9470589400814879, 0.8105782678233826]]\n"
     ]
    }
   ],
   "source": [
    "data = []\n",
    "with open(\"simplecsv.txt\", \"r\") as fp:\n",
    "    for line in fp:\n",
    "        data.append(list(map(float, line.split(','))))\n",
    "\n",
    "print(data[:5])"
   ]
  },
  {
   "cell_type": "code",
   "execution_count": 25,
   "metadata": {
    "scrolled": true,
    "slideshow": {
     "slide_type": "slide"
    }
   },
   "outputs": [
    {
     "name": "stdout",
     "output_type": "stream",
     "text": [
      "0.9852894594803399 ,\t0.33982735765285166 ,\t0.9856949043132003 ,\t0.11343986835082853\r\n",
      "0.36830023214808405 ,\t0.9761361079953821 ,\t0.1933959790161589 ,\t0.0029692240400590597\r\n",
      "0.5741592968428983 ,\t0.007420332948117392 ,\t0.5318212549214184 ,\t0.32710626615809746\r\n",
      "0.179885891512363 ,\t0.3466078121460697 ,\t0.5061186342426123 ,\t0.2583694306788481\r\n",
      "0.4602266586762609 ,\t0.8392800057104012 ,\t0.45727309701958885 ,\t0.18318828436403412\r\n",
      "0.7555307361344804 ,\t0.12953636467938567 ,\t0.5981924229245301 ,\t0.6772965619547541\r\n",
      "0.463112154184635 ,\t0.4387670971859764 ,\t0.7574894540628571 ,\t0.8169901692973488\r\n",
      "0.9297816799007443 ,\t0.44892091026675884 ,\t ,\t0.8014452942795188\r\n",
      "0.7698937610111667 ,\t0.019600602173882042 ,\t0.4490303682653397 ,\t0.667893181453624\r\n",
      "0.0098163416540199 ,\t0.5301969918474951 ,\t ,\t"
     ]
    }
   ],
   "source": [
    "from random import random\n",
    "\n",
    "data = [[random() if random()>.1 else None for i in range(4)] for j in range(10)]\n",
    "\n",
    "converter = lambda num: str(num) if num is not None else ''\n",
    "with open(\"simplecsv.txt\", \"w\") as fp:\n",
    "    fp.write('\\n'.join([' ,\\t'.join(map(converter, line)) for line in data]))\n",
    "    \n",
    "!head -n10 simplecsv.txt"
   ]
  },
  {
   "cell_type": "code",
   "execution_count": 28,
   "metadata": {
    "slideshow": {
     "slide_type": "subslide"
    }
   },
   "outputs": [
    {
     "name": "stdout",
     "output_type": "stream",
     "text": [
      "[0.9852894594803399, 0.33982735765285166, 0.9856949043132003, 0.11343986835082853]\n",
      "[0.36830023214808405, 0.9761361079953821, 0.1933959790161589, 0.0029692240400590597]\n",
      "[0.5741592968428983, 0.007420332948117392, 0.5318212549214184, 0.32710626615809746]\n",
      "[0.179885891512363, 0.3466078121460697, 0.5061186342426123, 0.2583694306788481]\n",
      "[0.4602266586762609, 0.8392800057104012, 0.45727309701958885, 0.18318828436403412]\n",
      "[0.7555307361344804, 0.12953636467938567, 0.5981924229245301, 0.6772965619547541]\n",
      "[0.463112154184635, 0.4387670971859764, 0.7574894540628571, 0.8169901692973488]\n",
      "[0.9297816799007443, 0.44892091026675884, 0.8014452942795188]\n",
      "[0.7698937610111667, 0.019600602173882042, 0.4490303682653397, 0.667893181453624]\n",
      "[0.0098163416540199, 0.5301969918474951]\n"
     ]
    }
   ],
   "source": [
    "data = []\n",
    "removespaces = lambda s: s.strip()\n",
    "converter = lambda s: float(s) if s else None\n",
    "with open(\"simplecsv.txt\", \"r\") as fp:\n",
    "    for line in fp:\n",
    "        data.append(list(map(converter, map(removespaces, line.split(',')))))\n",
    "\n",
    "#print(data)\n",
    "for line in data:\n",
    "    print(list(filter(lambda num: num is not None, line)))"
   ]
  },
  {
   "cell_type": "code",
   "execution_count": 1,
   "metadata": {
    "slideshow": {
     "slide_type": "slide"
    }
   },
   "outputs": [
    {
     "name": "stdout",
     "output_type": "stream",
     "text": [
      "{0: 'a', 1: 'b', 2: 'c', 3: 'd', 4: 'e', 5: 'f', 6: 'g', 7: 'h', 8: 'i', 9: 'j'}\n",
      "['f', 'g', 'g', 'i', 'e', 'g', 'j', 'j', 'd', 'd', 'b', 'g', 'c', 'i', 'f', 'g', 'a', 'g', 'f', 'i']\n"
     ]
    }
   ],
   "source": [
    "from random import randint\n",
    "\n",
    "translationdict = dict([(i, chr(ord('a')+i)) for i in range(10)])\n",
    "print(translationdict)\n",
    "\n",
    "numlist = [randint(0,9) for i in range(20)]\n",
    "print(list(map(lambda number: translationdict[number], numlist)))"
   ]
  },
  {
   "cell_type": "code",
   "execution_count": null,
   "metadata": {},
   "outputs": [],
   "source": []
  }
 ],
 "metadata": {
  "celltoolbar": "Slideshow",
  "kernelspec": {
   "display_name": "Python 3",
   "language": "python",
   "name": "python3"
  },
  "language_info": {
   "codemirror_mode": {
    "name": "ipython",
    "version": 3
   },
   "file_extension": ".py",
   "mimetype": "text/x-python",
   "name": "python",
   "nbconvert_exporter": "python",
   "pygments_lexer": "ipython3",
   "version": "3.7.6"
  },
  "rise": {
   "autolaunch": true,
   "backimage": "background16x10.png",
   "enable_chalkboard": false
  }
 },
 "nbformat": 4,
 "nbformat_minor": 4
}
