{
 "cells": [
  {
   "cell_type": "markdown",
   "metadata": {
    "slideshow": {
     "slide_type": "slide"
    }
   },
   "source": [
    "# Numpy\n",
    "\n",
    "from [numpy.org](https://numpy.org):\n",
    "* a powerful N-dimensional array object\n",
    "* sophisticated (broadcasting) functions\n",
    "* tools for integrating C/C++ and Fortran code\n",
    "* useful linear algebra, Fourier transform, and random number capabilities\n"
   ]
  },
  {
   "cell_type": "code",
   "execution_count": 1,
   "metadata": {
    "slideshow": {
     "slide_type": "slide"
    }
   },
   "outputs": [
    {
     "name": "stdout",
     "output_type": "stream",
     "text": [
      "[1 2 4]\n",
      "int64\n",
      "[[1. 2. 3.]]\n",
      "float64\n",
      "(3,) (1, 3)\n"
     ]
    }
   ],
   "source": [
    "import numpy as np\n",
    "\n",
    "x = np.array([1,2,4])\n",
    "print(x)\n",
    "print(x.dtype)\n",
    "\n",
    "y = np.array([[1,2,3]], dtype=np.float64)\n",
    "print(y)\n",
    "print(y.dtype)\n",
    "\n",
    "print(x.shape, y.shape)"
   ]
  },
  {
   "cell_type": "code",
   "execution_count": 2,
   "metadata": {
    "slideshow": {
     "slide_type": "slide"
    }
   },
   "outputs": [
    {
     "name": "stdout",
     "output_type": "stream",
     "text": [
      "[1 3 5 7 9]\n",
      "[0.         0.11111111 0.22222222 0.33333333 0.44444444 0.55555556\n",
      " 0.66666667 0.77777778 0.88888889 1.        ]\n",
      "[0.  0.1 0.2 0.3 0.4 0.5 0.6 0.7 0.8 0.9] 0.1\n"
     ]
    }
   ],
   "source": [
    "a = np.arange(1, 10, 2)   # similar to range but yields an array\n",
    "\n",
    "print(a)\n",
    "\n",
    "b = np.linspace(0, 1, 10) \n",
    "print(b)\n",
    "\n",
    "c, dc = np.linspace(0, 1, 10, endpoint=False, retstep=True)\n",
    "print(c, dc)"
   ]
  },
  {
   "cell_type": "code",
   "execution_count": 3,
   "metadata": {
    "slideshow": {
     "slide_type": "slide"
    }
   },
   "outputs": [
    {
     "name": "stdout",
     "output_type": "stream",
     "text": [
      "1\n",
      "2\n",
      "4\n",
      "[1 2 3]\n",
      "[4 5 6]\n"
     ]
    }
   ],
   "source": [
    "# iterating works just as with lists\n",
    "\n",
    "for xi in x:\n",
    "    print(xi)\n",
    "    \n",
    "y = np.array([[1, 2, 3], [4, 5, 6]])\n",
    "for yi in y:\n",
    "    print(yi)"
   ]
  },
  {
   "cell_type": "code",
   "execution_count": 4,
   "metadata": {
    "slideshow": {
     "slide_type": "slide"
    }
   },
   "outputs": [
    {
     "name": "stdout",
     "output_type": "stream",
     "text": [
      "[-1  2 20]\n",
      "[[ 0.84147098  0.90929743  0.14112001]\n",
      " [-0.7568025  -0.95892427 -0.2794155 ]]\n",
      "[[1. 1. 1.]\n",
      " [1. 1. 1.]\n",
      " [1. 1. 1.]]\n",
      "[[3. 3. 3.]\n",
      " [3. 3. 3.]\n",
      " [3. 3. 3.]]\n"
     ]
    }
   ],
   "source": [
    "# computations with arrays are per element per default\n",
    "\n",
    "z = 2*x**2 - 3*x  \n",
    "print(z)\n",
    "print(np.sin(y))\n",
    "\n",
    "M = np.ones((3,3), dtype=np.float64) # try also zeros, empty\n",
    "print(M*M)\n",
    "print(M@M)"
   ]
  },
  {
   "cell_type": "code",
   "execution_count": 5,
   "metadata": {
    "slideshow": {
     "slide_type": "slide"
    }
   },
   "outputs": [
    {
     "name": "stdout",
     "output_type": "stream",
     "text": [
      "102 ms ± 894 µs per loop (mean ± std. dev. of 7 runs, 10 loops each)\n",
      "7.36 ms ± 113 µs per loop (mean ± std. dev. of 7 runs, 100 loops each)\n"
     ]
    }
   ],
   "source": [
    "from math import sin\n",
    "N = 1_000_000\n",
    "xl = [i/(N-1) for i in range(N)]\n",
    "xa = np.linspace(0, 1, N)\n",
    "fl = lambda x: [sin(xi) for xi in x]\n",
    "fa = lambda x: np.sin(x)\n",
    "%timeit fl(xl)\n",
    "%timeit fa(xa)"
   ]
  },
  {
   "cell_type": "code",
   "execution_count": 2,
   "metadata": {
    "slideshow": {
     "slide_type": "slide"
    }
   },
   "outputs": [
    {
     "data": {
      "image/png": "[encoded data removed]",
      "text/plain": [
       "<Figure size 432x288 with 1 Axes>"
      ]
     },
     "metadata": {
      "needs_background": "light"
     },
     "output_type": "display_data"
    }
   ],
   "source": [
    "%matplotlib inline\n",
    "import matplotlib.pyplot as plt\n",
    "\n",
    "t = np.linspace(0, 1, 200)\n",
    "y = np.sin(2*np.pi*t)\n",
    "\n",
    "plt.plot(t, y)\n",
    "plt.xlabel(\"$t_t$\")\n",
    "plt.show()"
   ]
  },
  {
   "cell_type": "code",
   "execution_count": 11,
   "metadata": {
    "slideshow": {
     "slide_type": "slide"
    }
   },
   "outputs": [
    {
     "data": {
      "image/png": "[encoded data removed]",
      "text/plain": [
       "<Figure size 432x288 with 1 Axes>"
      ]
     },
     "metadata": {
      "needs_background": "light"
     },
     "output_type": "display_data"
    }
   ],
   "source": [
    "x = np.cos(2*np.pi*t)\n",
    "\n",
    "plt.subplot(111, aspect='equal')\n",
    "plt.plot(x, y)\n",
    "plt.show()"
   ]
  },
  {
   "cell_type": "markdown",
   "metadata": {
    "slideshow": {
     "slide_type": "slide"
    }
   },
   "source": [
    "# Array Slicing\n",
    "\n",
    "Syntax: ARRAYNAME[START:STOP:STEP]; Defaults: START=0, STOP=len(ARRAYNAME), STEP=1"
   ]
  },
  {
   "cell_type": "code",
   "execution_count": 12,
   "metadata": {
    "slideshow": {
     "slide_type": "subslide"
    }
   },
   "outputs": [
    {
     "name": "stdout",
     "output_type": "stream",
     "text": [
      "x: [ 0  1  2  3  4  5  6  7  8  9 10 11 12 13 14 15 16 17 18 19]\n",
      "x from 2 to 15(excluding): [ 2  3  4  5  6  7  8  9 10 11 12 13 14]\n",
      "x from 2 to 15(excluding) in steps of 2: [ 2  4  6  8 10 12 14]\n",
      "x backwards: [19 18 17 16 15 14 13 12 11 10  9  8  7  6  5  4  3  2  1  0]\n",
      "x from 1 to 17 (19-2): [ 1  2  3  4  5  6  7  8  9 10 11 12 13 14 15 16 17]\n",
      "x from the last element to the fifth last (excluding), backwards: [19 18 17 16]\n"
     ]
    }
   ],
   "source": [
    "x = np.arange(20)\n",
    "print(\"x:\", x)\n",
    "print(\"x from 2 to 15(excluding):\", x[2:15])\n",
    "print(\"x from 2 to 15(excluding) in steps of 2:\", x[2:15:2])\n",
    "# negative values\n",
    "print(\"x backwards:\", x[::-1])\n",
    "print(\"x from 1 to 17 (19-2):\", x[1:-2])\n",
    "# now its harder:\n",
    "print(\"x from the last element to the fifth last (excluding), backwards:\", x[-1:-5:-1])"
   ]
  },
  {
   "cell_type": "code",
   "execution_count": 13,
   "metadata": {
    "slideshow": {
     "slide_type": "slide"
    }
   },
   "outputs": [
    {
     "name": "stdout",
     "output_type": "stream",
     "text": [
      "x is now x^2: [  0   1   4   9  16  25  36  49  64  81 100 121 144 169 196 225 256 289\n",
      " 324 361]\n",
      "Differences in x: [ 1  3  5  7  9 11 13 15 17 19 21 23 25 27 29 31 33 35 37]\n",
      "mean of every neighboring two: [  0.5   6.5  20.5  42.5  72.5 110.5 156.5 210.5 272.5 342.5]\n"
     ]
    }
   ],
   "source": [
    "x = x**2\n",
    "print(\"x is now x^2:\", x)\n",
    "print(\"Differences in x:\", x[1:]-x[:-1])          # or just np.diff(x)\n",
    "print(\"mean of every neighboring two:\", (x[:-1:2]+x[1::2])/2)"
   ]
  },
  {
   "cell_type": "markdown",
   "metadata": {
    "slideshow": {
     "slide_type": "slide"
    }
   },
   "source": [
    "# Random numbers"
   ]
  },
  {
   "cell_type": "code",
   "execution_count": 15,
   "metadata": {
    "slideshow": {
     "slide_type": "subslide"
    }
   },
   "outputs": [
    {
     "name": "stdout",
     "output_type": "stream",
     "text": [
      "Random numbers: [0.08341586 0.1851669  0.49939918 0.17541029 0.3768113  0.18735186\n",
      " 0.53998326 0.6874538  0.40818619 0.46158486]\n"
     ]
    }
   ],
   "source": [
    "x = np.random.rand(10)   # 10 random numbers in [0,1)\n",
    "print(\"Random numbers:\", x)"
   ]
  },
  {
   "cell_type": "markdown",
   "metadata": {
    "slideshow": {
     "slide_type": "slide"
    }
   },
   "source": [
    "# Useful array methods"
   ]
  },
  {
   "cell_type": "code",
   "execution_count": 16,
   "metadata": {
    "slideshow": {
     "slide_type": "subslide"
    }
   },
   "outputs": [
    {
     "name": "stdout",
     "output_type": "stream",
     "text": [
      "Sum of all x: 3.6047635017196376\n",
      "Mean value of x: 0.3604763501719638\n",
      "Standard deviation of x: 0.18518098770642866\n",
      "Variance of x: 0.03429199820792848\n",
      "Minimum of x: 0.08341586159188819\n",
      "Maximum of x: 0.6874538023718832\n",
      "Index of the minimums in x: 0\n",
      "Index of the maximums in x: 7\n"
     ]
    }
   ],
   "source": [
    "print(\"Sum of all x:\", x.sum())\n",
    "print(\"Mean value of x:\", x.mean())\n",
    "print(\"Standard deviation of x:\", x.std())\n",
    "print(\"Variance of x:\", x.var())\n",
    "print(\"Minimum of x:\", x.min())\n",
    "print(\"Maximum of x:\", x.max())\n",
    "print(\"Index of the minimums in x:\", x.argmin())\n",
    "print(\"Index of the maximums in x:\", x.argmax())"
   ]
  },
  {
   "cell_type": "markdown",
   "metadata": {
    "slideshow": {
     "slide_type": "slide"
    }
   },
   "source": [
    "# Exercise\n",
    "\n",
    "Write a program to integrate the function $\\int_0^{\\pi/2}\\sin(x) dx$ using the trapez method:\n",
    "\n",
    "$$ \\int_a^b f(x) dx \\approx \\frac{b-a}{2(N-1)} \\sum_{n=1}^{N-1} (f(x_n)+f(x_{n+1}))$$\n",
    "\n",
    "Chose different step sizes and compare the result to the analytical solution.\n",
    "\n",
    "Optional: try a non constant spacing with:\n",
    "\n",
    "$$ \\int_a^b f(x) dx \\approx \\frac{1}{2} \\sum_{n=1}^N (x_{n+1}-x_{n})(f(x_n)+f(x_{n+1}))$$"
   ]
  },
  {
   "cell_type": "code",
   "execution_count": 6,
   "metadata": {
    "slideshow": {
     "slide_type": "slide"
    }
   },
   "outputs": [
    {
     "name": "stdout",
     "output_type": "stream",
     "text": [
      "Indices to sort x: [1 3 0 4 2]\n",
      "sorted version of x: [2 2 4 5 6]\n",
      "but x is unchanged: [4 2 6 2 5]\n",
      "now x is sorted inplace: [2 2 4 5 6]\n"
     ]
    }
   ],
   "source": [
    "x = np.array([4,2,6,2,5])\n",
    "ind = x.argsort()\n",
    "print(\"Indices to sort x:\", ind)\n",
    "print(\"sorted version of x:\", x[ind])\n",
    "print(\"but x is unchanged:\", x)\n",
    "x.sort()\n",
    "print(\"now x is sorted inplace:\", x)"
   ]
  },
  {
   "cell_type": "code",
   "execution_count": 7,
   "metadata": {
    "slideshow": {
     "slide_type": "slide"
    }
   },
   "outputs": [
    {
     "name": "stdout",
     "output_type": "stream",
     "text": [
      "[2 2 4 5 6]\n",
      "[2 5 6]\n",
      "[1 2 4 1 1]\n",
      "[1 2 4 1 1]\n",
      "[0 0 0 0 0]\n"
     ]
    }
   ],
   "source": [
    "print(x)\n",
    "print(x[[0,3,4]])\n",
    "x[[0,3,4]] = 1\n",
    "print(x)\n",
    "print(x[x>.5])\n",
    "x[x>.5] = .5\n",
    "print(x)"
   ]
  },
  {
   "cell_type": "code",
   "execution_count": 8,
   "metadata": {
    "slideshow": {
     "slide_type": "slide"
    }
   },
   "outputs": [
    {
     "name": "stdout",
     "output_type": "stream",
     "text": [
      "Linear equidistant: [0.         0.11111111 0.22222222 0.33333333 0.44444444 0.55555556\n",
      " 0.66666667 0.77777778 0.88888889 1.        ]\n",
      "Logarithmic equidistant: [1.00000000e+01 2.78255940e+01 7.74263683e+01 2.15443469e+02\n",
      " 5.99484250e+02 1.66810054e+03 4.64158883e+03 1.29154967e+04\n",
      " 3.59381366e+04 1.00000000e+05]\n"
     ]
    }
   ],
   "source": [
    "# other array construction functions:\n",
    "print(\"Linear equidistant:\", np.linspace(0.0, 1.0, 10))      # start, stop, count\n",
    "print(\"Logarithmic equidistant:\", np.logspace(1.0, 5.0, 10)) # start, stop, count"
   ]
  },
  {
   "cell_type": "code",
   "execution_count": 9,
   "metadata": {
    "slideshow": {
     "slide_type": "slide"
    }
   },
   "outputs": [
    {
     "name": "stdout",
     "output_type": "stream",
     "text": [
      "Zeros: [0.+0.j 0.+0.j 0.+0.j 0.+0.j 0.+0.j 0.+0.j 0.+0.j 0.+0.j 0.+0.j 0.+0.j]\n",
      "Ones: [[1 1]\n",
      " [1 1]\n",
      " [1 1]\n",
      " [1 1]\n",
      " [1 1]]\n",
      "Empty: [0. 0. 0. 0. 0. 0. 0. 0. 0. 0.]\n"
     ]
    }
   ],
   "source": [
    "# initialized Arrays; Syntax is the same for all of them:\n",
    "print(\"Zeros:\", np.zeros(10, dtype=np.complex128))\n",
    "print(\"Ones:\", np.ones((5,2), dtype=np.int32))        # 5x2 array\n",
    "print(\"Empty:\", np.empty(10))                         # do not use theses numbers!"
   ]
  },
  {
   "cell_type": "markdown",
   "metadata": {
    "slideshow": {
     "slide_type": "slide"
    }
   },
   "source": [
    "# Exercise\n",
    "\n",
    "Generate an array of values with $\\sin(x)$ for $x\\in [0, 2\\pi]$ and 200 points equidistantly spaced. Now clip these values to the range $[-.5, .5]$. This means all values smaller than -.5 must be set to -.5 and all values larger than .5 are set to .5. "
   ]
  },
  {
   "cell_type": "code",
   "execution_count": 10,
   "metadata": {},
   "outputs": [
    {
     "data": {
      "text/plain": [
       "[<matplotlib.lines.Line2D at 0x113dea7d0>]"
      ]
     },
     "execution_count": 10,
     "metadata": {},
     "output_type": "execute_result"
    },
    {
     "data": {
      "image/png": "[encoded data removed]",
      "text/plain": [
       "<Figure size 432x288 with 1 Axes>"
      ]
     },
     "metadata": {
      "needs_background": "light"
     },
     "output_type": "display_data"
    }
   ],
   "source": [
    "%matplotlib inline\n",
    "import matplotlib.pyplot as plt\n",
    "import numpy as np\n",
    "\n",
    "x = np.linspace(0, 2*np.pi, 200)\n",
    "y = np.sin(x)\n",
    "plt.plot(y.copy())"
   ]
  },
  {
   "cell_type": "markdown",
   "metadata": {
    "slideshow": {
     "slide_type": "slide"
    }
   },
   "source": [
    "# Matplotlib help\n",
    "\n",
    "Use [matplotlib gallery](https://matplotlib.org/gallery.html) to find code examples for differnt plots"
   ]
  },
  {
   "cell_type": "markdown",
   "metadata": {
    "slideshow": {
     "slide_type": "slide"
    }
   },
   "source": [
    "# Exercise\n",
    "\n",
    "`x = np.linspace(0, 2*np.pi, 50)\n",
    "y = np.sin(x) + .1*np.random.randn(50)`\n",
    "\n",
    "\n",
    "Use the matplotlib gallery to produce a plot with error bars, where the error bars represent the noise level."
   ]
  },
  {
   "cell_type": "code",
   "execution_count": null,
   "metadata": {},
   "outputs": [],
   "source": []
  }
 ],
 "metadata": {
  "celltoolbar": "Slideshow",
  "kernelspec": {
   "display_name": "Python 3",
   "language": "python",
   "name": "python3"
  },
  "language_info": {
   "codemirror_mode": {
    "name": "ipython",
    "version": 3
   },
   "file_extension": ".py",
   "mimetype": "text/x-python",
   "name": "python",
   "nbconvert_exporter": "python",
   "pygments_lexer": "ipython3",
   "version": "3.7.2"
  },
  "rise": {
   "autolaunch": true,
   "backimage": "background16x10.png",
   "enable_chalkboard": true
  }
 },
 "nbformat": 4,
 "nbformat_minor": 4
}
