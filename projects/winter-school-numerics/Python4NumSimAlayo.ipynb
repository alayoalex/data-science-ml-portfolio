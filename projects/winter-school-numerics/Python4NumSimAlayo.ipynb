{
 "cells": [
  {
   "cell_type": "code",
   "execution_count": 1,
   "metadata": {},
   "outputs": [
    {
     "name": "stdout",
     "output_type": "stream",
     "text": [
      "The Zen of Python, by Tim Peters\n",
      "\n",
      "Beautiful is better than ugly.\n",
      "Explicit is better than implicit.\n",
      "Simple is better than complex.\n",
      "Complex is better than complicated.\n",
      "Flat is better than nested.\n",
      "Sparse is better than dense.\n",
      "Readability counts.\n",
      "Special cases aren't special enough to break the rules.\n",
      "Although practicality beats purity.\n",
      "Errors should never pass silently.\n",
      "Unless explicitly silenced.\n",
      "In the face of ambiguity, refuse the temptation to guess.\n",
      "There should be one-- and preferably only one --obvious way to do it.\n",
      "Although that way may not be obvious at first unless you're Dutch.\n",
      "Now is better than never.\n",
      "Although never is often better than *right* now.\n",
      "If the implementation is hard to explain, it's a bad idea.\n",
      "If the implementation is easy to explain, it may be a good idea.\n",
      "Namespaces are one honking great idea -- let's do more of those!\n"
     ]
    }
   ],
   "source": [
    "import this\n",
    "import numpy as np\n",
    "from numpy.fft import fft, ifft\n",
    "import matplotlib.pyplot as plt\n",
    "from scipy.integrate import odeint"
   ]
  },
  {
   "cell_type": "code",
   "execution_count": 77,
   "metadata": {},
   "outputs": [
    {
     "data": {
      "text/plain": [
       "int"
      ]
     },
     "execution_count": 77,
     "metadata": {},
     "output_type": "execute_result"
    }
   ],
   "source": [
    "a = 5\n",
    "type(a)"
   ]
  },
  {
   "cell_type": "code",
   "execution_count": 78,
   "metadata": {},
   "outputs": [
    {
     "data": {
      "text/plain": [
       "['texfile00.txt',\n",
       " 'texfile01.txt',\n",
       " 'texfile02.txt',\n",
       " 'texfile03.txt',\n",
       " 'texfile04.txt',\n",
       " 'texfile05.txt',\n",
       " 'texfile06.txt',\n",
       " 'texfile07.txt',\n",
       " 'texfile08.txt',\n",
       " 'texfile09.txt']"
      ]
     },
     "execution_count": 78,
     "metadata": {},
     "output_type": "execute_result"
    }
   ],
   "source": [
    "li = []\n",
    "for i in range(10):\n",
    "    li.append(f\"texfile{i:02}.txt\")\n",
    "    \n",
    "li\n"
   ]
  },
  {
   "cell_type": "code",
   "execution_count": 79,
   "metadata": {},
   "outputs": [
    {
     "name": "stdout",
     "output_type": "stream",
     "text": [
      "['basename001.txt', 'basename002.txt', 'basename003.txt', 'basename004.txt', 'basename005.txt', 'basename006.txt', 'basename007.txt', 'basename008.txt', 'basename009.txt', 'basename010.txt']\n"
     ]
    }
   ],
   "source": [
    "filenames = [f'basename{i+1:03}.txt' for i in range(10)]\n",
    "print(filenames)"
   ]
  },
  {
   "cell_type": "code",
   "execution_count": 80,
   "metadata": {},
   "outputs": [
    {
     "data": {
      "text/plain": [
       "['1_año-luz.txt',\n",
       " 'Contactos de los Dedieu.txt',\n",
       " 'Libros cristianos a leer.txt',\n",
       " 'Links de libros.txt',\n",
       " 'Links referencias bibliograficas 1.txt',\n",
       " 'Links referencias bibliograficas.txt',\n",
       " 'Notas.txt',\n",
       " 'Números de Carnet de Identidad.txt',\n",
       " 'Repaso Ingles.txt',\n",
       " 'Serie y modelo de la PC.txt',\n",
       " 'Telefonos y correos.txt',\n",
       " 'Vocabulario en ingles.txt']"
      ]
     },
     "execution_count": 80,
     "metadata": {},
     "output_type": "execute_result"
    }
   ],
   "source": [
    "from os import listdir\n",
    "files = listdir(\"f://Alexei Almacen//Basurero//\")\n",
    "filescopy = []\n",
    "for f in files:\n",
    "    a = f.rsplit('.', maxsplit=1)\n",
    "    if a[-1] == 'txt':\n",
    "        filescopy.append(f)\n",
    "        \n",
    "filescopy"
   ]
  },
  {
   "cell_type": "code",
   "execution_count": 81,
   "metadata": {},
   "outputs": [
    {
     "name": "stdout",
     "output_type": "stream",
     "text": [
      "II\n"
     ]
    }
   ],
   "source": [
    "def pattern(n):\n",
    "    n-=1\n",
    "    for i in range(n):\n",
    "        inicio = (n-i)*\" \"\n",
    "        cad = 2*i*str(0)\n",
    "        print(f'{inicio}I{cad}I')\n",
    "    for i in range(n,-1,-1):\n",
    "        final = (n-i)*\" \"\n",
    "        cad = 2*i*str(0)\n",
    "        print(f'{final}I{cad}I')\n",
    "    \n",
    "pattern(1)"
   ]
  },
  {
   "cell_type": "code",
   "execution_count": 82,
   "metadata": {},
   "outputs": [
    {
     "data": {
      "text/plain": [
       "49500"
      ]
     },
     "execution_count": 82,
     "metadata": {},
     "output_type": "execute_result"
    }
   ],
   "source": [
    "def palindromesume():\n",
    "    palindromes = []\n",
    "    suma = 0\n",
    "    for i in range(101,1000):\n",
    "        s = str(i)\n",
    "        pal = True\n",
    "        for j in range(len(s)):\n",
    "            if(s[j] != s[len(s)-j-1]):\n",
    "                pal = False\n",
    "        if pal == True:\n",
    "            palindromes.append(i)\n",
    "    for k in palindromes:\n",
    "        suma += k\n",
    "    return suma\n",
    "\n",
    "palindromesume()"
   ]
  },
  {
   "cell_type": "code",
   "execution_count": 83,
   "metadata": {},
   "outputs": [
    {
     "name": "stdout",
     "output_type": "stream",
     "text": [
      "68,74,87,10\n",
      "27,99,68,86\n",
      "67,74,83,84\n",
      "14,9,15,17\n",
      "69,27,83,1\n",
      "60,40,11,28\n",
      "88,5,98,98\n",
      "67,47,22,50\n",
      "65,1,8,80\n",
      "78,78,30,30\n",
      "\n"
     ]
    },
    {
     "data": {
      "text/plain": [
       "[[68, 74, 87, 10],\n",
       " [27, 99, 68, 86],\n",
       " [67, 74, 83, 84],\n",
       " [14, 9, 15, 17],\n",
       " [69, 27, 83, 1],\n",
       " [60, 40, 11, 28],\n",
       " [88, 5, 98, 98],\n",
       " [67, 47, 22, 50],\n",
       " [65, 1, 8, 80],\n",
       " [78, 78, 30, 30]]"
      ]
     },
     "execution_count": 83,
     "metadata": {},
     "output_type": "execute_result"
    }
   ],
   "source": [
    "from random import randrange\n",
    "\n",
    "with open(\"aleatorios.txt\", \"w\") as pf:\n",
    "    for i in range(10):\n",
    "        for j in range(3):\n",
    "            pf.write(str(randrange(1,100)) + ',')\n",
    "        pf.write(str(randrange(1,100)))\n",
    "        pf.write('\\n')\n",
    "            \n",
    "\n",
    "!type aleatorios.txt\n",
    "print()\n",
    "\n",
    "cont = []\n",
    "with open('aleatorios.txt', 'r') as pf:\n",
    "    cont = pf.read().split('\\n')\n",
    "    result = [cont[i].split(',') for i in range(len(cont)-1)]\n",
    "    \n",
    "form = [[int(result[j][i]) for i in range(len(result[j]))] for j in range(len(result))]\n",
    "    \n",
    "form"
   ]
  },
  {
   "cell_type": "code",
   "execution_count": 84,
   "metadata": {},
   "outputs": [
    {
     "name": "stdout",
     "output_type": "stream",
     "text": [
      "1 2 5\n",
      "a 1\n",
      "b 2\n",
      "c 5\n",
      "dict_keys(['a', 'b', 'c'])\n",
      "dict_values([1, 2, 5])\n",
      "<class 'dict_values'>\n"
     ]
    }
   ],
   "source": [
    "d = {'a':1, 'b':2}\n",
    "d['c'] = 5\n",
    "locals().update(d)\n",
    "print(a,b,c)\n",
    "for item in d:\n",
    "    print(item, d[item])\n",
    "print(d.keys())\n",
    "print(d.values())\n",
    "print(type(d.values()))"
   ]
  },
  {
   "cell_type": "code",
   "execution_count": 85,
   "metadata": {},
   "outputs": [
    {
     "data": {
      "text/plain": [
       "array([0.        , 0.11111111, 0.22222222, 0.33333333, 0.44444444,\n",
       "       0.55555556, 0.66666667, 0.77777778, 0.88888889, 1.        ])"
      ]
     },
     "execution_count": 85,
     "metadata": {},
     "output_type": "execute_result"
    }
   ],
   "source": [
    "b = np.linspace(0,1,10)\n",
    "b"
   ]
  },
  {
   "cell_type": "markdown",
   "metadata": {
    "slideshow": {
     "slide_type": "slide"
    }
   },
   "source": [
    "# Computing integral\n",
    "$$ \\int_{0}^{\\pi} \\sin x dx $$"
   ]
  },
  {
   "cell_type": "code",
   "execution_count": 86,
   "metadata": {},
   "outputs": [
    {
     "name": "stdout",
     "output_type": "stream",
     "text": [
      "-8.33117287379892e-08\n"
     ]
    },
    {
     "data": {
      "text/plain": [
       "0.9999999166882713"
      ]
     },
     "execution_count": 86,
     "metadata": {},
     "output_type": "execute_result"
    }
   ],
   "source": [
    "a, b, n = 0, np.pi/2, 1572\n",
    "x = np.linspace(a,b,n)\n",
    "integral = (b - a)/(2*(n - 1)) * np.sum(np.sin(x[:-1]) + np.sin(x[1:]))\n",
    "\n",
    "analytical = 1.0\n",
    "print(integral - analytical)\n",
    "integral"
   ]
  },
  {
   "cell_type": "code",
   "execution_count": 87,
   "metadata": {},
   "outputs": [
    {
     "data": {
      "text/plain": [
       "50"
      ]
     },
     "execution_count": 87,
     "metadata": {},
     "output_type": "execute_result"
    }
   ],
   "source": [
    "x = np.linspace(0,np.pi/0.001)\n",
    "len(x)"
   ]
  },
  {
   "cell_type": "code",
   "execution_count": 88,
   "metadata": {},
   "outputs": [
    {
     "data": {
      "text/plain": [
       "0.9998648110993813"
      ]
     },
     "execution_count": 88,
     "metadata": {},
     "output_type": "execute_result"
    }
   ],
   "source": [
    "a, b, n = 0, np.pi/2, 40\n",
    "x = np.linspace(a,b,n)\n",
    "suma = sum([np.sin(x[i]) + np.sin(x[i+1]) for i in range(len(x)-1)])\n",
    "integral = (b - a)/(2*(n - 1)) * suma\n",
    "integral"
   ]
  },
  {
   "cell_type": "code",
   "execution_count": 95,
   "metadata": {},
   "outputs": [
    {
     "data": {
      "text/plain": [
       "[<matplotlib.lines.Line2D at 0x1d6e152f2b0>]"
      ]
     },
     "execution_count": 95,
     "metadata": {},
     "output_type": "execute_result"
    },
    {
     "data": {
      "image/png": "[encoded data removed]",
      "text/plain": [
       "<Figure size 432x288 with 1 Axes>"
      ]
     },
     "metadata": {
      "needs_background": "light"
     },
     "output_type": "display_data"
    }
   ],
   "source": [
    "x = np.linspace(0, 2*np.pi, 200)\n",
    "y = np.sin(x)\n",
    "\n",
    "plt.plot(y)\n",
    "\n",
    "y[y > .5] = .5\n",
    "y[y < -.5] = -.5\n",
    "\n",
    "plt.plot(y)"
   ]
  },
  {
   "cell_type": "code",
   "execution_count": 172,
   "metadata": {},
   "outputs": [
    {
     "name": "stdout",
     "output_type": "stream",
     "text": [
      "[0.5235987755982988, 0, 0, 0]\n",
      "(1000, 4)\n",
      "<class 'numpy.ndarray'>\n",
      "[[-1.7749268   0.72209374]\n",
      " [-1.84072779  0.88553162]\n",
      " [-1.9047465   1.0466551 ]\n",
      " [-1.96643185  1.20411388]\n",
      " [-2.02505315  1.35621493]]\n",
      "[ 9.95995996  9.96996997  9.97997998  9.98998999 10.        ]\n"
     ]
    }
   ],
   "source": [
    "def dphi_func(phi_vector, t):\n",
    "    g = 10\n",
    "    phi1, phi2, phi3, phi4 = phi_vector\n",
    "    A = np.array([[4/3, 1/2*np.cos(phi1-phi2)], \n",
    "                  [1/2*np.cos(phi1-phi2), 1/3]])\n",
    "    b = np.array([-1/2*phi4**2*np.sin(phi1-phi2)-3/2*g*np.sin(phi1), \n",
    "                  1/2*phi3**2*np.sin(phi1-phi2)-1/2*g*np.sin(phi2)])\n",
    "    dphi = np.linalg.solve(A,b)\n",
    "    return np.array([phi3, phi4, dphi[0], dphi[1]])\n",
    "\n",
    "t = np.linspace(0,10,1000)\n",
    "initial_phi = [np.pi/6, 0]\n",
    "initial_dphi = [0, 0]\n",
    "initial = initial_phi + initial_dphi\n",
    "print(initial)\n",
    "result = odeint(dphi_func, initial, t)\n",
    "\n",
    "print(result.shape)\n",
    "print(type(result))\n",
    "print(result[-5:,[-2,-1]])\n",
    "print(t[-5:])"
   ]
  },
  {
   "cell_type": "code",
   "execution_count": 173,
   "metadata": {},
   "outputs": [
    {
     "data": {
      "text/plain": [
       "[<matplotlib.lines.Line2D at 0x1d6e17c5e48>]"
      ]
     },
     "execution_count": 173,
     "metadata": {},
     "output_type": "execute_result"
    },
    {
     "data": {
      "image/png": "[encoded data removed]",
      "text/plain": [
       "<Figure size 432x288 with 1 Axes>"
      ]
     },
     "metadata": {
      "needs_background": "light"
     },
     "output_type": "display_data"
    }
   ],
   "source": [
    "plt.plot(t, result[:,0])\n",
    "plt.plot(t, result[:,1])"
   ]
  },
  {
   "cell_type": "code",
   "execution_count": 169,
   "metadata": {},
   "outputs": [
    {
     "name": "stdout",
     "output_type": "stream",
     "text": [
      "Initial position barra 1:  1.0i +  0.0j\n",
      "Initial position barra 1:  1.0i +  1.0j\n"
     ]
    }
   ],
   "source": [
    "l = 1.\n",
    "\n",
    "position_bar1 = np.array([l*np.sin(result[:,0]), l*np.cos(result[:,0])])\n",
    "position_bar2 = position_bar1 + np.array([l*np.sin(result[:,1]), l*np.cos(result[:,1])])\n",
    "\n",
    "print(f\"Initial position barra 1: {position_bar1[0,0]:4.1f}i + {position_bar1[1,0]:4.1f}j\")\n",
    "print(f\"Initial position barra 1: {position_bar2[0,0]:4.1f}i + {position_bar2[1,0]:4.1f}j\")"
   ]
  },
  {
   "cell_type": "code",
   "execution_count": 6,
   "metadata": {},
   "outputs": [
    {
     "name": "stdout",
     "output_type": "stream",
     "text": [
      "[ 4.83287163e-16+0.00000000e+00j -7.54708116e-15-6.40000000e+01j\n",
      " -6.44871263e-16-3.56412791e-15j  2.91971113e-16-8.45775709e-16j\n",
      "  3.68204484e-16-1.59891010e-15j]\n",
      "[2.46519033e-32 4.90676743e-02 9.80171403e-02 1.46730474e-01\n",
      " 1.95090322e-01]\n",
      "[0.         0.04906767 0.09801714 0.14673047 0.19509032]\n",
      "[-2.46519033e-32 -2.08166817e-17  2.77555756e-17  0.00000000e+00\n",
      "  0.00000000e+00]\n"
     ]
    }
   ],
   "source": [
    "N = 128\n",
    "x = np.arange(N)\n",
    "y = np.sin(2*np.pi*x/N)\n",
    "\n",
    "yk = fft(y)\n",
    "yi = ifft(yk)\n",
    "print(yk[:5])\n",
    "print(yi[:5].real)\n",
    "print(y[:5])\n",
    "print(y[:5] - yi[:5].real)"
   ]
  },
  {
   "cell_type": "code",
   "execution_count": 47,
   "metadata": {},
   "outputs": [
    {
     "data": {
      "text/plain": [
       "Text(0.5, 1.0, 'Absolute Values')"
      ]
     },
     "execution_count": 47,
     "metadata": {},
     "output_type": "execute_result"
    },
    {
     "data": {
      "image/png": "[encoded data removed]",
      "text/plain": [
       "<Figure size 432x288 with 4 Axes>"
      ]
     },
     "metadata": {
      "needs_background": "light"
     },
     "output_type": "display_data"
    }
   ],
   "source": [
    "N = 128\n",
    "x = np.linspace(0, 2*np.pi, N, endpoint=True)\n",
    "y = np.sin(10*x)\n",
    "\n",
    "yk = fft(y)\n",
    "\n",
    "fig = plt.figure()\n",
    "ax1 = fig.add_subplot(2,2,1, autoscale_on=True)\n",
    "ax1.plot(x, y)\n",
    "ax1.set_title('Function')\n",
    "ax2 = fig.add_subplot(2,2,2, autoscale_on=True)\n",
    "ax2.plot(yk.real)\n",
    "ax2.set_title('Real Part')\n",
    "ax3 = fig.add_subplot(2,2,3, autoscale_on=True)\n",
    "ax3.plot(yk.imag)\n",
    "ax3.set_title('Imaginary Part')\n",
    "ax4 = fig.add_subplot(2,2,4, autoscale_on=True)\n",
    "ax4.plot(abs(yk))\n",
    "ax4.set_title('Absolute Values')"
   ]
  }
 ],
 "metadata": {
  "kernelspec": {
   "display_name": "Python 3",
   "language": "python",
   "name": "python3"
  },
  "language_info": {
   "codemirror_mode": {
    "name": "ipython",
    "version": 3
   },
   "file_extension": ".py",
   "mimetype": "text/x-python",
   "name": "python",
   "nbconvert_exporter": "python",
   "pygments_lexer": "ipython3",
   "version": "3.7.2"
  }
 },
 "nbformat": 4,
 "nbformat_minor": 2
}
