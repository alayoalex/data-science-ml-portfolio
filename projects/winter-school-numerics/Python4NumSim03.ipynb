{
 "cells": [
  {
   "cell_type": "markdown",
   "metadata": {
    "slideshow": {
     "slide_type": "slide"
    }
   },
   "source": [
    "# Solving ordinary differential equations\n",
    "## The double pendulum\n",
    "\n",
    "<img src=\"Double-pendulum.png\">"
   ]
  },
  {
   "cell_type": "markdown",
   "metadata": {
    "slideshow": {
     "slide_type": "slide"
    }
   },
   "source": [
    "# Ordinary differential equations\n",
    "\n",
    "$$\n",
    "F(t, y, y', y'', \\dots, y^{(n)}) = 0\n",
    "$$\n",
    "\n",
    "Solution is not a number but a functional behavior $y(t)$! To solve it we need to rephrase it to the form:\n",
    "\n",
    "$$\n",
    "y^{(n)} = F(t, y, y', y'', \\dots, y^{(n-1)})\n",
    "$$"
   ]
  },
  {
   "cell_type": "markdown",
   "metadata": {
    "slideshow": {
     "slide_type": "slide"
    }
   },
   "source": [
    "And reduce to first order by increasing dimensions:\n",
    "\n",
    "$$\n",
    "\\hat{y}_i = y^{(i-1)} \\;\\; i=1\\dots n\n",
    "$$\n",
    "\n",
    "This leads to the new system of first order only:\n",
    "\n",
    "$$\n",
    "\\hat{y}'_1 = \\hat{y}_2\\\\\n",
    "\\hat{y}'_2 = \\hat{y}_3\\\\\n",
    "\\vdots\\\\\n",
    "\\hat{y}'_{n-1} = \\hat{y}_n\\\\\n",
    "\\hat{y}'_{n} = F(t, \\hat{y}_1, \\dots, \\hat{y}_{n})\n",
    "$$"
   ]
  },
  {
   "cell_type": "markdown",
   "metadata": {
    "slideshow": {
     "slide_type": "slide"
    }
   },
   "source": [
    "# Numerical solution of ordinary differential equations\n",
    "\n",
    "For a given intial condition i. e. $(t_0, \\hat{y}_1^0, \\dots, \\hat{y}_{n}^0)$ the function $y(t)$ can be obtained by stepwise integration. Here simple Euler method:\n",
    "\n",
    "$$\n",
    "y'(t)\\approx \\frac{y(t+h)-y(t)}{h}\\\\\n",
    "\\to y(t+h) = y(t) + h y'(t)\n",
    "$$"
   ]
  },
  {
   "cell_type": "markdown",
   "metadata": {
    "slideshow": {
     "slide_type": "slide"
    }
   },
   "source": [
    "The system of differential equations:\n",
    "\n",
    "$$\n",
    "\\frac{4}{3} \\ddot{\\theta}_1 + \\frac{1}{2}\\cos(\\theta_1-\\theta_2)\\ddot{\\theta}_2 = - \\frac{1}{2}\\dot{\\theta}_2^2 \\sin(\\theta_1-\\theta_2) -\\frac{3}{2} g \\sin(\\theta_1)\\\\\n",
    "\\frac{1}{2}\\cos(\\theta_1-\\theta_2)\\ddot{\\theta}_1 + \\frac{1}{3} \\ddot{\\theta}_2 = \\frac{1}{2}\\dot{\\theta}_1^2\\sin(\\theta_1-\\theta_2) -\\frac{1}{2} g \\sin(\\theta_2)\n",
    "$$"
   ]
  },
  {
   "cell_type": "markdown",
   "metadata": {
    "slideshow": {
     "slide_type": "slide"
    }
   },
   "source": [
    "Is equivalent to the form:\n",
    "\n",
    "$$\n",
    "\\begin{pmatrix} \\frac{4}{3} & \\frac{1}{2}\\cos(\\theta_1-\\theta_2) \\\\ \\frac{1}{2}\\cos(\\theta_1-\\theta_2) & \\frac{1}{3} \\end{pmatrix} \\begin{pmatrix}\\ddot{\\theta}_1\\\\\\ddot{\\theta}_2\\end{pmatrix} = \n",
    "\\begin{pmatrix}-\\frac{1}{2}\\dot{\\theta}_2^2\\sin(\\theta_1-\\theta_2)-\\frac{3}{2}g\\sin(\\theta_1)\\\\\n",
    "\\frac{1}{2}\\dot{\\theta}_1^2\\sin(\\theta_1-\\theta_2)-\\frac{3}{1}g\\sin(\\theta_2)\\end{pmatrix}\n",
    "$$\n"
   ]
  },
  {
   "cell_type": "markdown",
   "metadata": {
    "slideshow": {
     "slide_type": "slide"
    }
   },
   "source": [
    "Substitution:\n",
    "\n",
    "$$\n",
    "\\phi_1 = \\theta_1\\\\\n",
    "\\phi_2 = \\theta_2\\\\\n",
    "\\phi_3 = \\dot{\\theta}_1\\\\\n",
    "\\phi_4 = \\dot{\\theta}_2\\\\\n",
    "$$"
   ]
  },
  {
   "cell_type": "markdown",
   "metadata": {
    "slideshow": {
     "slide_type": "slide"
    }
   },
   "source": [
    "This yields:\n",
    "\n",
    "$$\n",
    "\\begin{pmatrix} \\frac{4}{3} & \\frac{1}{2}\\cos(\\phi_1-\\phi_2) \\\\ \\frac{1}{2}\\cos(\\phi_1-\\phi_2) & \\frac{1}{3} \\end{pmatrix} \\begin{pmatrix}\\dot{\\phi}_3\\\\\\dot{\\phi}_4\\end{pmatrix} = \n",
    "\\begin{pmatrix}-\\frac{1}{2}\\phi_4^2\\sin(\\phi_1-\\phi_2)-\\frac{3}{2}g\\sin(\\phi_1)\\\\\n",
    "\\frac{1}{2}\\phi_3^2\\sin(\\phi_1-\\phi_2)-\\frac{3}{1}g\\sin(\\phi_2)\\end{pmatrix}\n",
    "$$\n"
   ]
  },
  {
   "cell_type": "markdown",
   "metadata": {
    "slideshow": {
     "slide_type": "slide"
    }
   },
   "source": [
    "Solve for $\\dot{\\phi}$ by numerically solving the system of equations for a given value:\n",
    "\n",
    "$$\n",
    "A \\begin{pmatrix}\\dot{\\phi}_3\\\\\\dot{\\phi}_4\\end{pmatrix} = b\n",
    "$$\n",
    "\n",
    "`dphi = np.linalg.solve(A,b)`"
   ]
  },
  {
   "cell_type": "code",
   "execution_count": 4,
   "metadata": {
    "slideshow": {
     "slide_type": "slide"
    }
   },
   "outputs": [],
   "source": [
    "from scipy.integrate import odeint\n",
    "\n",
    "odeint?"
   ]
  },
  {
   "cell_type": "markdown",
   "metadata": {
    "slideshow": {
     "slide_type": "slide"
    }
   },
   "source": [
    "# Exercise part one\n",
    "\n",
    "Write a function to compute $\\dot{\\phi}_i$ (use `dphi = np.linalg.solve(A,b)`)\n",
    "\n",
    "$$\n",
    "\\begin{pmatrix} \\frac{4}{3} & \\frac{1}{2}\\cos(\\phi_1-\\phi_2) \\\\ \\frac{1}{2}\\cos(\\phi_1-\\phi_2) & \\frac{1}{3} \\end{pmatrix} \\begin{pmatrix}\\dot{\\phi}_3\\\\\\dot{\\phi}_4\\end{pmatrix} = \n",
    "\\begin{pmatrix}-\\frac{1}{2}\\phi_4^2\\sin(\\phi_1-\\phi_2)-\\frac{3}{2}g\\sin(\\phi_1)\\\\\n",
    "\\frac{1}{2}\\phi_3^2\\sin(\\phi_1-\\phi_2)-\\frac{1}{2}g\\sin(\\phi_2)\\end{pmatrix}\n",
    "$$"
   ]
  },
  {
   "cell_type": "code",
   "execution_count": 5,
   "metadata": {},
   "outputs": [
    {
     "ename": "SyntaxError",
     "evalue": "invalid syntax (<ipython-input-5-7cc2c17e74cf>, line 6)",
     "output_type": "error",
     "traceback": [
      "\u001b[0;36m  File \u001b[0;32m\"<ipython-input-5-7cc2c17e74cf>\"\u001b[0;36m, line \u001b[0;32m6\u001b[0m\n\u001b[0;31m    A = np.array([[ , ],[ , ]])\u001b[0m\n\u001b[0m                    ^\u001b[0m\n\u001b[0;31mSyntaxError\u001b[0m\u001b[0;31m:\u001b[0m invalid syntax\n"
     ]
    }
   ],
   "source": [
    "import numpy as np\n",
    "from scipy.integrate import odeint\n",
    "\n",
    "def dphi_func(phi, t):\n",
    "    phi1, phi2, phi3, phi4 = phi\n",
    "    A = np.array([[ , ],[ , ]])\n",
    "    b = np.array([ , ])\n",
    "    dphi34 = np.linalg.solve(A, b)\n",
    "    return np.array([dphi1, dphi2, dphi3, dphi4])"
   ]
  },
  {
   "cell_type": "markdown",
   "metadata": {
    "slideshow": {
     "slide_type": "slide"
    }
   },
   "source": [
    "# Exercise part two\n",
    "\n",
    "Use this function with intial conditions $\\dot{\\theta_1}=0; \\dot{\\theta_2}=0; \\theta_1 =\\pi/2; \\theta_2=0$ for time $t=0..10$ in 1000 time steps."
   ]
  },
  {
   "cell_type": "code",
   "execution_count": null,
   "metadata": {},
   "outputs": [],
   "source": [
    "t = np.linspace()\n",
    "phi_0 = np.array([])\n",
    "\n",
    "phi_t = odeint(func, phi_0, t)"
   ]
  },
  {
   "cell_type": "markdown",
   "metadata": {
    "slideshow": {
     "slide_type": "slide"
    }
   },
   "source": [
    "# Exercise part three\n",
    "\n",
    "Plot the angles $\\theta_i$ over time."
   ]
  },
  {
   "cell_type": "markdown",
   "metadata": {
    "slideshow": {
     "slide_type": "slide"
    }
   },
   "source": [
    "# Exercise part four\n",
    "\n",
    "Write a function that computes coordinates of pendulum end points:\n",
    "<img src=\"Double-pendulum.png\">"
   ]
  },
  {
   "cell_type": "markdown",
   "metadata": {
    "slideshow": {
     "slide_type": "slide"
    }
   },
   "source": [
    "# Exercise part five\n",
    "\n",
    "Plot next the trace of endpoints."
   ]
  },
  {
   "cell_type": "code",
   "execution_count": null,
   "metadata": {},
   "outputs": [],
   "source": []
  }
 ],
 "metadata": {
  "celltoolbar": "Slideshow",
  "kernelspec": {
   "display_name": "Python 3",
   "language": "python",
   "name": "python3"
  },
  "language_info": {
   "codemirror_mode": {
    "name": "ipython",
    "version": 3
   },
   "file_extension": ".py",
   "mimetype": "text/x-python",
   "name": "python",
   "nbconvert_exporter": "python",
   "pygments_lexer": "ipython3",
   "version": "3.7.6"
  },
  "rise": {
   "autolaunch": true,
   "backimage": "background16x10.png",
   "enable_chalkboard": true
  }
 },
 "nbformat": 4,
 "nbformat_minor": 4
}
