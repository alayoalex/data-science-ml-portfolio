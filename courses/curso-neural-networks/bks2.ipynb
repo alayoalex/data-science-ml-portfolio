{
 "cells": [
  {
   "cell_type": "markdown",
   "metadata": {},
   "source": [
    "# BSK Dataset"
   ]
  },
  {
   "cell_type": "code",
   "execution_count": 3,
   "metadata": {},
   "outputs": [],
   "source": [
    "import numpy as np\n",
    "import pandas as pd\n",
    "from sklearn.neural_network import MLPRegressor\n",
    "from sklearn.metrics import mean_squared_error\n",
    "#from sklearn.pipeline import make_pipeline\n",
    "#from sklearn import preprocessing\n",
    "#from sklearn.preprocessing import StandardScaler\n",
    "\n",
    "# To plot pretty figures\n",
    "%matplotlib inline\n",
    "import matplotlib as mpl\n",
    "import matplotlib.pyplot as plt\n",
    "mpl.rc('axes', labelsize=14)\n",
    "mpl.rc('xtick', labelsize=12)\n",
    "mpl.rc('ytick', labelsize=12)"
   ]
  },
  {
   "cell_type": "code",
   "execution_count": 4,
   "metadata": {},
   "outputs": [
    {
     "name": "stdout",
     "output_type": "stream",
     "text": [
      "Training dimentions: (10427, 21)\n",
      "Validation dimentions: (3476, 21)\n",
      "Test dimentions: (3476, 21)\n"
     ]
    }
   ],
   "source": [
    "dftraining = pd.read_csv(\"../../datasets/ucirvine-datasets/bks/train.csv\")\n",
    "dftest = pd.read_csv(\"../../datasets/ucirvine-datasets/bks/test.csv\")\n",
    "dfvalidation = pd.read_csv(\"../../datasets/ucirvine-datasets/bks/validation.csv\")\n",
    "\n",
    "print(\"Training dimentions: \" + str(dftraining.shape))\n",
    "print(\"Validation dimentions: \" + str(dftest.shape))\n",
    "print(\"Test dimentions: \" + str(dfvalidation.shape))"
   ]
  },
  {
   "cell_type": "code",
   "execution_count": 5,
   "metadata": {},
   "outputs": [],
   "source": [
    "training = dftraining[:].values\n",
    "validation = dfvalidation[:].values\n",
    "test = dftest[:].values"
   ]
  },
  {
   "cell_type": "code",
   "execution_count": 6,
   "metadata": {},
   "outputs": [],
   "source": [
    "#dftraining.head()"
   ]
  },
  {
   "cell_type": "code",
   "execution_count": 7,
   "metadata": {},
   "outputs": [],
   "source": [
    "#dftraining.describe()"
   ]
  },
  {
   "cell_type": "code",
   "execution_count": 8,
   "metadata": {},
   "outputs": [
    {
     "name": "stdout",
     "output_type": "stream",
     "text": [
      "Samples: (10427, 20)\n",
      "Outputs: (10427,)\n"
     ]
    }
   ],
   "source": [
    "Xtrain = training[:,:-1]\n",
    "Ytrain = training[:,-1]\n",
    "Xtest = test[:,:-1]\n",
    "Ytest = test[:,-1]\n",
    "Xvalidation = validation[:,:-1]\n",
    "Yvalidation = validation[:,-1]\n",
    "\n",
    "print(\"Samples: \" + str(Xtrain.shape))\n",
    "print(\"Outputs: \" + str(Ytrain.shape))"
   ]
  },
  {
   "cell_type": "code",
   "execution_count": 85,
   "metadata": {},
   "outputs": [],
   "source": [
    "train_errors, val_errors, modelos = [], [], []\n",
    "\n",
    "for m in range(5,15):    \n",
    "    mlp = MLPRegressor(hidden_layer_sizes=(10*(m+1),), activation='relu', solver='sgd', alpha=0.0001, \n",
    "                    batch_size='auto', learning_rate='constant', learning_rate_init=0.01, \n",
    "                    power_t=0.5, max_iter=200, shuffle=True, random_state=None, tol=0.0001, \n",
    "                    verbose=False, warm_start=True, early_stopping=False, validation_fraction=0.1, \n",
    "                    beta_1=0.9, beta_2=0.999, \n",
    "                    epsilon=1e-08, n_iter_no_change=10, max_fun=15000)\n",
    "    \n",
    "    mlp.fit(Xtrain, Ytrain)\n",
    "    modelos.append(mlp)\n",
    "    \n",
    "    y_train_predict = mlp.predict(Xtrain)\n",
    "    y_val_predict = mlp.predict(Xtest)\n",
    "    \n",
    "    train_errors.append(mean_squared_error(y_train_predict, Ytrain))\n",
    "    val_errors.append(mean_squared_error(y_val_predict, Ytest))"
   ]
  },
  {
   "cell_type": "code",
   "execution_count": 86,
   "metadata": {},
   "outputs": [],
   "source": [
    "models = ['RNA{0}'.format(i) for i in range(1,len(modelos))]\n",
    "arq = ['20x{0}x1'.format(i) for i in range(50,10*len(modelos),10)]\n",
    "\n",
    "s = pd.DataFrame([models, arq, train_errors, val_errors], index=['modelo', 'arquitectura', 'entrenamiento', 'validacion'])"
   ]
  },
  {
   "cell_type": "code",
   "execution_count": 87,
   "metadata": {},
   "outputs": [
    {
     "data": {
      "text/html": [
       "<div>\n",
       "<style scoped>\n",
       "    .dataframe tbody tr th:only-of-type {\n",
       "        vertical-align: middle;\n",
       "    }\n",
       "\n",
       "    .dataframe tbody tr th {\n",
       "        vertical-align: top;\n",
       "    }\n",
       "\n",
       "    .dataframe thead th {\n",
       "        text-align: right;\n",
       "    }\n",
       "</style>\n",
       "<table border=\"1\" class=\"dataframe\">\n",
       "  <thead>\n",
       "    <tr style=\"text-align: right;\">\n",
       "      <th></th>\n",
       "      <th>modelo</th>\n",
       "      <th>arquitectura</th>\n",
       "      <th>entrenamiento</th>\n",
       "      <th>validacion</th>\n",
       "    </tr>\n",
       "  </thead>\n",
       "  <tbody>\n",
       "    <tr>\n",
       "      <th>0</th>\n",
       "      <td>RNA1</td>\n",
       "      <td>20x50x1</td>\n",
       "      <td>0.00149844</td>\n",
       "      <td>0.00166228</td>\n",
       "    </tr>\n",
       "    <tr>\n",
       "      <th>1</th>\n",
       "      <td>RNA2</td>\n",
       "      <td>20x60x1</td>\n",
       "      <td>0.00161756</td>\n",
       "      <td>0.00169721</td>\n",
       "    </tr>\n",
       "    <tr>\n",
       "      <th>2</th>\n",
       "      <td>RNA3</td>\n",
       "      <td>20x70x1</td>\n",
       "      <td>0.0012243</td>\n",
       "      <td>0.00123943</td>\n",
       "    </tr>\n",
       "    <tr>\n",
       "      <th>3</th>\n",
       "      <td>RNA4</td>\n",
       "      <td>20x80x1</td>\n",
       "      <td>0.00122177</td>\n",
       "      <td>0.00122133</td>\n",
       "    </tr>\n",
       "    <tr>\n",
       "      <th>4</th>\n",
       "      <td>RNA5</td>\n",
       "      <td>20x90x1</td>\n",
       "      <td>0.00113196</td>\n",
       "      <td>0.00120611</td>\n",
       "    </tr>\n",
       "    <tr>\n",
       "      <th>5</th>\n",
       "      <td>RNA6</td>\n",
       "      <td>None</td>\n",
       "      <td>0.0011195</td>\n",
       "      <td>0.00116116</td>\n",
       "    </tr>\n",
       "    <tr>\n",
       "      <th>6</th>\n",
       "      <td>RNA7</td>\n",
       "      <td>None</td>\n",
       "      <td>0.0012028</td>\n",
       "      <td>0.00119847</td>\n",
       "    </tr>\n",
       "    <tr>\n",
       "      <th>7</th>\n",
       "      <td>RNA8</td>\n",
       "      <td>None</td>\n",
       "      <td>0.0010958</td>\n",
       "      <td>0.00113911</td>\n",
       "    </tr>\n",
       "    <tr>\n",
       "      <th>8</th>\n",
       "      <td>RNA9</td>\n",
       "      <td>None</td>\n",
       "      <td>0.00116132</td>\n",
       "      <td>0.00116133</td>\n",
       "    </tr>\n",
       "    <tr>\n",
       "      <th>9</th>\n",
       "      <td>NaN</td>\n",
       "      <td>NaN</td>\n",
       "      <td>0.001189</td>\n",
       "      <td>0.00118727</td>\n",
       "    </tr>\n",
       "  </tbody>\n",
       "</table>\n",
       "</div>"
      ],
      "text/plain": [
       "  modelo arquitectura entrenamiento  validacion\n",
       "0   RNA1      20x50x1    0.00149844  0.00166228\n",
       "1   RNA2      20x60x1    0.00161756  0.00169721\n",
       "2   RNA3      20x70x1     0.0012243  0.00123943\n",
       "3   RNA4      20x80x1    0.00122177  0.00122133\n",
       "4   RNA5      20x90x1    0.00113196  0.00120611\n",
       "5   RNA6         None     0.0011195  0.00116116\n",
       "6   RNA7         None     0.0012028  0.00119847\n",
       "7   RNA8         None     0.0010958  0.00113911\n",
       "8   RNA9         None    0.00116132  0.00116133\n",
       "9    NaN          NaN      0.001189  0.00118727"
      ]
     },
     "execution_count": 87,
     "metadata": {},
     "output_type": "execute_result"
    }
   ],
   "source": [
    "s.T"
   ]
  },
  {
   "cell_type": "code",
   "execution_count": 88,
   "metadata": {},
   "outputs": [
    {
     "data": {
      "text/plain": [
       "[<matplotlib.lines.Line2D at 0x225297b34a8>]"
      ]
     },
     "execution_count": 88,
     "metadata": {},
     "output_type": "execute_result"
    },
    {
     "data": {
      "image/png": "[encoded data removed]",
      "text/plain": [
       "<Figure size 432x288 with 1 Axes>"
      ]
     },
     "metadata": {
      "needs_background": "light"
     },
     "output_type": "display_data"
    }
   ],
   "source": [
    "plt.plot(np.sqrt(train_errors), \"r-+\", linewidth=2, label=\"train\")\n",
    "plt.plot(np.sqrt(val_errors), \"b-\", linewidth=3, label=\"val\")"
   ]
  },
  {
   "cell_type": "code",
   "execution_count": 89,
   "metadata": {},
   "outputs": [
    {
     "name": "stdout",
     "output_type": "stream",
     "text": [
      "RNA8\n",
      "MLPRegressor(activation='relu', alpha=0.0001, batch_size='auto', beta_1=0.9,\n",
      "             beta_2=0.999, early_stopping=False, epsilon=1e-08,\n",
      "             hidden_layer_sizes=(130,), learning_rate='constant',\n",
      "             learning_rate_init=0.01, max_fun=15000, max_iter=200, momentum=0.9,\n",
      "             n_iter_no_change=10, nesterovs_momentum=True, power_t=0.5,\n",
      "             random_state=None, shuffle=True, solver='sgd', tol=0.0001,\n",
      "             validation_fraction=0.1, verbose=False, warm_start=True)\n"
     ]
    }
   ],
   "source": [
    "print(models[val_errors.index(min(val_errors))])\n",
    "print(modelos[val_errors.index(min(val_errors))])"
   ]
  },
  {
   "cell_type": "code",
   "execution_count": 90,
   "metadata": {},
   "outputs": [
    {
     "data": {
      "text/plain": [
       "array([0.15545033, 0.17964112, 0.30170263, ..., 0.82946425, 0.04618346,\n",
       "       0.42134968])"
      ]
     },
     "execution_count": 90,
     "metadata": {},
     "output_type": "execute_result"
    }
   ],
   "source": [
    "predict = mlp.predict(Xvalidation)\n",
    "predict"
   ]
  },
  {
   "cell_type": "code",
   "execution_count": 91,
   "metadata": {},
   "outputs": [
    {
     "data": {
      "text/plain": [
       "0.0012173897049959483"
      ]
     },
     "execution_count": 91,
     "metadata": {},
     "output_type": "execute_result"
    }
   ],
   "source": [
    "mean_squared_error(predict, Yvalidation)"
   ]
  },
  {
   "cell_type": "code",
   "execution_count": 92,
   "metadata": {},
   "outputs": [
    {
     "data": {
      "text/plain": [
       "array([ 0.17964112,  0.30170263,  0.12216385,  0.30569444,  0.02386816,\n",
       "       -0.02626241,  0.18478572,  0.02637954,  0.22713176])"
      ]
     },
     "execution_count": 92,
     "metadata": {},
     "output_type": "execute_result"
    }
   ],
   "source": [
    "predict[1:10]"
   ]
  },
  {
   "cell_type": "code",
   "execution_count": 93,
   "metadata": {},
   "outputs": [
    {
     "data": {
      "text/plain": [
       "array([0.20600414, 0.38819876, 0.11076605, 0.32298137, 0.06418219,\n",
       "       0.0310559 , 0.18012422, 0.01035197, 0.2184265 ])"
      ]
     },
     "execution_count": 93,
     "metadata": {},
     "output_type": "execute_result"
    }
   ],
   "source": [
    "Yvalidation[1:10]"
   ]
  }
 ],
 "metadata": {
  "kernelspec": {
   "display_name": "Python 3",
   "language": "python",
   "name": "python3"
  },
  "language_info": {
   "codemirror_mode": {
    "name": "ipython",
    "version": 3
   },
   "file_extension": ".py",
   "mimetype": "text/x-python",
   "name": "python",
   "nbconvert_exporter": "python",
   "pygments_lexer": "ipython3",
   "version": "3.9.2"
  },
  "vscode": {
   "interpreter": {
    "hash": "18ed5c060edc04715e9ef5682dba3773e225891d13b91dc753745fd7dd9a8287"
   }
  }
 },
 "nbformat": 4,
 "nbformat_minor": 4
}
